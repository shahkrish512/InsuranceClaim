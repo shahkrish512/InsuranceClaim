{
 "cells": [
  {
   "cell_type": "code",
   "execution_count": 4,
   "metadata": {},
   "outputs": [],
   "source": [
    "#import packages\n",
    "import pandas as pd\n",
    "import numpy as np"
   ]
  },
  {
   "cell_type": "code",
   "execution_count": 5,
   "metadata": {},
   "outputs": [],
   "source": [
    "#to plot within notebook\n",
    "import matplotlib.pyplot as plt\n",
    "%matplotlib inline"
   ]
  },
  {
   "cell_type": "code",
   "execution_count": 6,
   "metadata": {},
   "outputs": [],
   "source": [
    "#setting figure size\n",
    "from matplotlib.pylab import rcParams\n",
    "rcParams['figure.figsize'] = 20,10"
   ]
  },
  {
   "cell_type": "code",
   "execution_count": 7,
   "metadata": {},
   "outputs": [],
   "source": [
    "#for normalizing data\n",
    "from sklearn.preprocessing import MinMaxScaler\n",
    "scaler = MinMaxScaler(feature_range=(0, 1))"
   ]
  },
  {
   "cell_type": "code",
   "execution_count": 8,
   "metadata": {},
   "outputs": [],
   "source": [
    "#read the file\n",
    "df = pd.read_csv('Liveins.csv')"
   ]
  },
  {
   "cell_type": "code",
   "execution_count": 9,
   "metadata": {},
   "outputs": [
    {
     "data": {
      "text/html": [
       "<div>\n",
       "<style scoped>\n",
       "    .dataframe tbody tr th:only-of-type {\n",
       "        vertical-align: middle;\n",
       "    }\n",
       "\n",
       "    .dataframe tbody tr th {\n",
       "        vertical-align: top;\n",
       "    }\n",
       "\n",
       "    .dataframe thead th {\n",
       "        text-align: right;\n",
       "    }\n",
       "</style>\n",
       "<table border=\"1\" class=\"dataframe\">\n",
       "  <thead>\n",
       "    <tr style=\"text-align: right;\">\n",
       "      <th></th>\n",
       "      <th>Area_Service</th>\n",
       "      <th>Hospital County</th>\n",
       "      <th>Certificate_num</th>\n",
       "      <th>Hospital Id</th>\n",
       "      <th>Hospital Name</th>\n",
       "      <th>Age</th>\n",
       "      <th>zip_code_3_digits</th>\n",
       "      <th>Gender</th>\n",
       "      <th>Cultural_group</th>\n",
       "      <th>ethnicity</th>\n",
       "      <th>...</th>\n",
       "      <th>Payment_typology_1</th>\n",
       "      <th>payment_typology_2</th>\n",
       "      <th>payment_typology_3</th>\n",
       "      <th>Weight_baby</th>\n",
       "      <th>Abortion</th>\n",
       "      <th>Emergency dept_yes/No</th>\n",
       "      <th>Tot_charg</th>\n",
       "      <th>Tot_cost</th>\n",
       "      <th>ratio_of_total_costs_to_total_charges</th>\n",
       "      <th>Result</th>\n",
       "    </tr>\n",
       "  </thead>\n",
       "  <tbody>\n",
       "    <tr>\n",
       "      <th>0</th>\n",
       "      <td>Western NY</td>\n",
       "      <td>Allegany</td>\n",
       "      <td>226700.0</td>\n",
       "      <td>37.0</td>\n",
       "      <td>Cuba Memorial Hospital Inc</td>\n",
       "      <td>30 to 49</td>\n",
       "      <td>147</td>\n",
       "      <td>F</td>\n",
       "      <td>White</td>\n",
       "      <td>Not Span/Hispanic</td>\n",
       "      <td>...</td>\n",
       "      <td>Blue Cross/Blue Shield</td>\n",
       "      <td>NaN</td>\n",
       "      <td>NaN</td>\n",
       "      <td>0</td>\n",
       "      <td>N</td>\n",
       "      <td>Y</td>\n",
       "      <td>5511.95</td>\n",
       "      <td>5582.49</td>\n",
       "      <td>1.012798</td>\n",
       "      <td>Genuine</td>\n",
       "    </tr>\n",
       "    <tr>\n",
       "      <th>1</th>\n",
       "      <td>Western NY</td>\n",
       "      <td>Allegany</td>\n",
       "      <td>226700.0</td>\n",
       "      <td>37.0</td>\n",
       "      <td>Cuba Memorial Hospital Inc</td>\n",
       "      <td>70 or Older</td>\n",
       "      <td>147</td>\n",
       "      <td>F</td>\n",
       "      <td>White</td>\n",
       "      <td>Not Span/Hispanic</td>\n",
       "      <td>...</td>\n",
       "      <td>Medicare</td>\n",
       "      <td>NaN</td>\n",
       "      <td>NaN</td>\n",
       "      <td>0</td>\n",
       "      <td>N</td>\n",
       "      <td>Y</td>\n",
       "      <td>4783.20</td>\n",
       "      <td>5162.82</td>\n",
       "      <td>1.079365</td>\n",
       "      <td>Genuine</td>\n",
       "    </tr>\n",
       "    <tr>\n",
       "      <th>2</th>\n",
       "      <td>Western NY</td>\n",
       "      <td>Allegany</td>\n",
       "      <td>226700.0</td>\n",
       "      <td>37.0</td>\n",
       "      <td>Cuba Memorial Hospital Inc</td>\n",
       "      <td>30 to 49</td>\n",
       "      <td>147</td>\n",
       "      <td>F</td>\n",
       "      <td>White</td>\n",
       "      <td>Not Span/Hispanic</td>\n",
       "      <td>...</td>\n",
       "      <td>Blue Cross/Blue Shield</td>\n",
       "      <td>NaN</td>\n",
       "      <td>NaN</td>\n",
       "      <td>0</td>\n",
       "      <td>N</td>\n",
       "      <td>Y</td>\n",
       "      <td>3829.15</td>\n",
       "      <td>4056.52</td>\n",
       "      <td>1.059379</td>\n",
       "      <td>Genuine</td>\n",
       "    </tr>\n",
       "    <tr>\n",
       "      <th>3</th>\n",
       "      <td>Western NY</td>\n",
       "      <td>Allegany</td>\n",
       "      <td>226700.0</td>\n",
       "      <td>37.0</td>\n",
       "      <td>Cuba Memorial Hospital Inc</td>\n",
       "      <td>0 to 17</td>\n",
       "      <td>147</td>\n",
       "      <td>F</td>\n",
       "      <td>White</td>\n",
       "      <td>Not Span/Hispanic</td>\n",
       "      <td>...</td>\n",
       "      <td>Private Health Insurance</td>\n",
       "      <td>NaN</td>\n",
       "      <td>NaN</td>\n",
       "      <td>0</td>\n",
       "      <td>N</td>\n",
       "      <td>Y</td>\n",
       "      <td>1108.20</td>\n",
       "      <td>1644.75</td>\n",
       "      <td>1.484167</td>\n",
       "      <td>Fraudulent</td>\n",
       "    </tr>\n",
       "    <tr>\n",
       "      <th>4</th>\n",
       "      <td>Western NY</td>\n",
       "      <td>Allegany</td>\n",
       "      <td>226700.0</td>\n",
       "      <td>37.0</td>\n",
       "      <td>Cuba Memorial Hospital Inc</td>\n",
       "      <td>70 or Older</td>\n",
       "      <td>147</td>\n",
       "      <td>F</td>\n",
       "      <td>White</td>\n",
       "      <td>Not Span/Hispanic</td>\n",
       "      <td>...</td>\n",
       "      <td>Medicare</td>\n",
       "      <td>NaN</td>\n",
       "      <td>NaN</td>\n",
       "      <td>0</td>\n",
       "      <td>N</td>\n",
       "      <td>Y</td>\n",
       "      <td>3418.18</td>\n",
       "      <td>3370.87</td>\n",
       "      <td>0.986161</td>\n",
       "      <td>Genuine</td>\n",
       "    </tr>\n",
       "  </tbody>\n",
       "</table>\n",
       "<p>5 rows × 34 columns</p>\n",
       "</div>"
      ],
      "text/plain": [
       "  Area_Service Hospital County  Certificate_num  Hospital Id  \\\n",
       "0   Western NY        Allegany         226700.0         37.0   \n",
       "1   Western NY        Allegany         226700.0         37.0   \n",
       "2   Western NY        Allegany         226700.0         37.0   \n",
       "3   Western NY        Allegany         226700.0         37.0   \n",
       "4   Western NY        Allegany         226700.0         37.0   \n",
       "\n",
       "                Hospital Name          Age zip_code_3_digits Gender  \\\n",
       "0  Cuba Memorial Hospital Inc     30 to 49               147      F   \n",
       "1  Cuba Memorial Hospital Inc  70 or Older               147      F   \n",
       "2  Cuba Memorial Hospital Inc     30 to 49               147      F   \n",
       "3  Cuba Memorial Hospital Inc      0 to 17               147      F   \n",
       "4  Cuba Memorial Hospital Inc  70 or Older               147      F   \n",
       "\n",
       "  Cultural_group          ethnicity  ...        Payment_typology_1  \\\n",
       "0          White  Not Span/Hispanic  ...    Blue Cross/Blue Shield   \n",
       "1          White  Not Span/Hispanic  ...                  Medicare   \n",
       "2          White  Not Span/Hispanic  ...    Blue Cross/Blue Shield   \n",
       "3          White  Not Span/Hispanic  ...  Private Health Insurance   \n",
       "4          White  Not Span/Hispanic  ...                  Medicare   \n",
       "\n",
       "  payment_typology_2 payment_typology_3  Weight_baby  Abortion  \\\n",
       "0                NaN                NaN            0         N   \n",
       "1                NaN                NaN            0         N   \n",
       "2                NaN                NaN            0         N   \n",
       "3                NaN                NaN            0         N   \n",
       "4                NaN                NaN            0         N   \n",
       "\n",
       "  Emergency dept_yes/No  Tot_charg Tot_cost  \\\n",
       "0                     Y    5511.95  5582.49   \n",
       "1                     Y    4783.20  5162.82   \n",
       "2                     Y    3829.15  4056.52   \n",
       "3                     Y    1108.20  1644.75   \n",
       "4                     Y    3418.18  3370.87   \n",
       "\n",
       "  ratio_of_total_costs_to_total_charges      Result  \n",
       "0                              1.012798     Genuine  \n",
       "1                              1.079365     Genuine  \n",
       "2                              1.059379     Genuine  \n",
       "3                              1.484167  Fraudulent  \n",
       "4                              0.986161     Genuine  \n",
       "\n",
       "[5 rows x 34 columns]"
      ]
     },
     "execution_count": 9,
     "metadata": {},
     "output_type": "execute_result"
    }
   ],
   "source": [
    "df.head()"
   ]
  },
  {
   "cell_type": "code",
   "execution_count": 10,
   "metadata": {},
   "outputs": [
    {
     "data": {
      "text/plain": [
       "(1048575, 34)"
      ]
     },
     "execution_count": 10,
     "metadata": {},
     "output_type": "execute_result"
    }
   ],
   "source": [
    "#total number of rows and columns in the data set\n",
    "df.shape"
   ]
  },
  {
   "cell_type": "code",
   "execution_count": 11,
   "metadata": {},
   "outputs": [
    {
     "name": "stdout",
     "output_type": "stream",
     "text": [
      "<class 'pandas.core.frame.DataFrame'>\n",
      "RangeIndex: 1048575 entries, 0 to 1048574\n",
      "Data columns (total 34 columns):\n",
      " #   Column                                 Non-Null Count    Dtype  \n",
      "---  ------                                 --------------    -----  \n",
      " 0   Area_Service                           1046119 non-null  object \n",
      " 1   Hospital County                        1046119 non-null  object \n",
      " 2   Certificate_num                        1046119 non-null  float64\n",
      " 3   Hospital Id                            1046119 non-null  float64\n",
      " 4   Hospital Name                          1048575 non-null  object \n",
      " 5   Age                                    1048575 non-null  object \n",
      " 6   zip_code_3_digits                      1033841 non-null  object \n",
      " 7   Gender                                 1048575 non-null  object \n",
      " 8   Cultural_group                         1048575 non-null  object \n",
      " 9   ethnicity                              1048575 non-null  object \n",
      " 10  Days_spend_hsptl                       1048575 non-null  int64  \n",
      " 11  Admission_type                         1048575 non-null  object \n",
      " 12  Home or self care,                     1048575 non-null  object \n",
      " 13  year_discharge                         1048575 non-null  int64  \n",
      " 14  ccs_diagnosis_code                     1048575 non-null  int64  \n",
      " 15  ccs_diagnosis_description              1048575 non-null  object \n",
      " 16  ccs_procedure_code                     1048575 non-null  int64  \n",
      " 17  ccs_procedure_description              1048575 non-null  object \n",
      " 18  apr_drg_description                    1048575 non-null  object \n",
      " 19  apr_mdc_description                    1048575 non-null  object \n",
      " 20  Code_illness                           1048575 non-null  int64  \n",
      " 21  Description_illness                    1048533 non-null  object \n",
      " 22  Mortality risk                         1048533 non-null  object \n",
      " 23  Surg_Description                       1048575 non-null  object \n",
      " 24  Payment_typology_1                     1048575 non-null  object \n",
      " 25  payment_typology_2                     693203 non-null   object \n",
      " 26  payment_typology_3                     263297 non-null   object \n",
      " 27  Weight_baby                            1048575 non-null  int64  \n",
      " 28  Abortion                               1048575 non-null  object \n",
      " 29  Emergency dept_yes/No                  1048575 non-null  object \n",
      " 30  Tot_charg                              1048575 non-null  float64\n",
      " 31  Tot_cost                               1048575 non-null  float64\n",
      " 32  ratio_of_total_costs_to_total_charges  1048575 non-null  float64\n",
      " 33  Result                                 1048575 non-null  object \n",
      "dtypes: float64(5), int64(6), object(23)\n",
      "memory usage: 272.0+ MB\n"
     ]
    }
   ],
   "source": [
    "df.info()"
   ]
  },
  {
   "cell_type": "code",
   "execution_count": 12,
   "metadata": {},
   "outputs": [
    {
     "data": {
      "text/html": [
       "<div>\n",
       "<style scoped>\n",
       "    .dataframe tbody tr th:only-of-type {\n",
       "        vertical-align: middle;\n",
       "    }\n",
       "\n",
       "    .dataframe tbody tr th {\n",
       "        vertical-align: top;\n",
       "    }\n",
       "\n",
       "    .dataframe thead th {\n",
       "        text-align: right;\n",
       "    }\n",
       "</style>\n",
       "<table border=\"1\" class=\"dataframe\">\n",
       "  <thead>\n",
       "    <tr style=\"text-align: right;\">\n",
       "      <th></th>\n",
       "      <th>Certificate_num</th>\n",
       "      <th>Hospital Id</th>\n",
       "      <th>Days_spend_hsptl</th>\n",
       "      <th>year_discharge</th>\n",
       "      <th>ccs_diagnosis_code</th>\n",
       "      <th>ccs_procedure_code</th>\n",
       "      <th>Code_illness</th>\n",
       "      <th>Weight_baby</th>\n",
       "      <th>Tot_charg</th>\n",
       "      <th>Tot_cost</th>\n",
       "      <th>ratio_of_total_costs_to_total_charges</th>\n",
       "    </tr>\n",
       "  </thead>\n",
       "  <tbody>\n",
       "    <tr>\n",
       "      <th>count</th>\n",
       "      <td>1.046119e+06</td>\n",
       "      <td>1.046119e+06</td>\n",
       "      <td>1.048575e+06</td>\n",
       "      <td>1048575.0</td>\n",
       "      <td>1.048575e+06</td>\n",
       "      <td>1.048575e+06</td>\n",
       "      <td>1.048575e+06</td>\n",
       "      <td>1.048575e+06</td>\n",
       "      <td>1.048575e+06</td>\n",
       "      <td>1.048575e+06</td>\n",
       "      <td>1.048575e+06</td>\n",
       "    </tr>\n",
       "    <tr>\n",
       "      <th>mean</th>\n",
       "      <td>3.274942e+06</td>\n",
       "      <td>6.529400e+02</td>\n",
       "      <td>5.411714e+00</td>\n",
       "      <td>2012.0</td>\n",
       "      <td>1.987936e+02</td>\n",
       "      <td>9.723249e+01</td>\n",
       "      <td>2.051806e+00</td>\n",
       "      <td>2.935512e+02</td>\n",
       "      <td>2.708697e+04</td>\n",
       "      <td>1.046399e+04</td>\n",
       "      <td>4.565822e-01</td>\n",
       "    </tr>\n",
       "    <tr>\n",
       "      <th>std</th>\n",
       "      <td>2.047362e+06</td>\n",
       "      <td>6.711577e+02</td>\n",
       "      <td>7.925115e+00</td>\n",
       "      <td>0.0</td>\n",
       "      <td>1.652839e+02</td>\n",
       "      <td>8.732697e+01</td>\n",
       "      <td>9.145785e-01</td>\n",
       "      <td>9.494631e+02</td>\n",
       "      <td>5.487428e+04</td>\n",
       "      <td>2.230366e+04</td>\n",
       "      <td>8.029246e-01</td>\n",
       "    </tr>\n",
       "    <tr>\n",
       "      <th>min</th>\n",
       "      <td>1.010000e+05</td>\n",
       "      <td>1.000000e+00</td>\n",
       "      <td>1.000000e+00</td>\n",
       "      <td>2012.0</td>\n",
       "      <td>1.000000e+00</td>\n",
       "      <td>0.000000e+00</td>\n",
       "      <td>0.000000e+00</td>\n",
       "      <td>0.000000e+00</td>\n",
       "      <td>3.100000e-01</td>\n",
       "      <td>1.000000e-01</td>\n",
       "      <td>3.312909e-02</td>\n",
       "    </tr>\n",
       "    <tr>\n",
       "      <th>25%</th>\n",
       "      <td>1.401014e+06</td>\n",
       "      <td>2.130000e+02</td>\n",
       "      <td>2.000000e+00</td>\n",
       "      <td>2012.0</td>\n",
       "      <td>1.080000e+02</td>\n",
       "      <td>0.000000e+00</td>\n",
       "      <td>1.000000e+00</td>\n",
       "      <td>0.000000e+00</td>\n",
       "      <td>7.402500e+03</td>\n",
       "      <td>3.234570e+03</td>\n",
       "      <td>3.135802e-01</td>\n",
       "    </tr>\n",
       "    <tr>\n",
       "      <th>50%</th>\n",
       "      <td>3.202003e+06</td>\n",
       "      <td>6.300000e+02</td>\n",
       "      <td>3.000000e+00</td>\n",
       "      <td>2012.0</td>\n",
       "      <td>1.590000e+02</td>\n",
       "      <td>9.000000e+01</td>\n",
       "      <td>2.000000e+00</td>\n",
       "      <td>0.000000e+00</td>\n",
       "      <td>1.458988e+04</td>\n",
       "      <td>5.928480e+03</td>\n",
       "      <td>4.091384e-01</td>\n",
       "    </tr>\n",
       "    <tr>\n",
       "      <th>75%</th>\n",
       "      <td>4.601004e+06</td>\n",
       "      <td>9.770000e+02</td>\n",
       "      <td>6.000000e+00</td>\n",
       "      <td>2012.0</td>\n",
       "      <td>2.180000e+02</td>\n",
       "      <td>1.740000e+02</td>\n",
       "      <td>3.000000e+00</td>\n",
       "      <td>0.000000e+00</td>\n",
       "      <td>2.914547e+04</td>\n",
       "      <td>1.134317e+04</td>\n",
       "      <td>5.192548e-01</td>\n",
       "    </tr>\n",
       "    <tr>\n",
       "      <th>max</th>\n",
       "      <td>7.002054e+06</td>\n",
       "      <td>9.250000e+03</td>\n",
       "      <td>1.200000e+02</td>\n",
       "      <td>2012.0</td>\n",
       "      <td>6.700000e+02</td>\n",
       "      <td>2.310000e+02</td>\n",
       "      <td>4.000000e+00</td>\n",
       "      <td>9.000000e+03</td>\n",
       "      <td>6.196974e+06</td>\n",
       "      <td>2.562478e+06</td>\n",
       "      <td>1.575596e+02</td>\n",
       "    </tr>\n",
       "  </tbody>\n",
       "</table>\n",
       "</div>"
      ],
      "text/plain": [
       "       Certificate_num   Hospital Id  Days_spend_hsptl  year_discharge  \\\n",
       "count     1.046119e+06  1.046119e+06      1.048575e+06       1048575.0   \n",
       "mean      3.274942e+06  6.529400e+02      5.411714e+00          2012.0   \n",
       "std       2.047362e+06  6.711577e+02      7.925115e+00             0.0   \n",
       "min       1.010000e+05  1.000000e+00      1.000000e+00          2012.0   \n",
       "25%       1.401014e+06  2.130000e+02      2.000000e+00          2012.0   \n",
       "50%       3.202003e+06  6.300000e+02      3.000000e+00          2012.0   \n",
       "75%       4.601004e+06  9.770000e+02      6.000000e+00          2012.0   \n",
       "max       7.002054e+06  9.250000e+03      1.200000e+02          2012.0   \n",
       "\n",
       "       ccs_diagnosis_code  ccs_procedure_code  Code_illness   Weight_baby  \\\n",
       "count        1.048575e+06        1.048575e+06  1.048575e+06  1.048575e+06   \n",
       "mean         1.987936e+02        9.723249e+01  2.051806e+00  2.935512e+02   \n",
       "std          1.652839e+02        8.732697e+01  9.145785e-01  9.494631e+02   \n",
       "min          1.000000e+00        0.000000e+00  0.000000e+00  0.000000e+00   \n",
       "25%          1.080000e+02        0.000000e+00  1.000000e+00  0.000000e+00   \n",
       "50%          1.590000e+02        9.000000e+01  2.000000e+00  0.000000e+00   \n",
       "75%          2.180000e+02        1.740000e+02  3.000000e+00  0.000000e+00   \n",
       "max          6.700000e+02        2.310000e+02  4.000000e+00  9.000000e+03   \n",
       "\n",
       "          Tot_charg      Tot_cost  ratio_of_total_costs_to_total_charges  \n",
       "count  1.048575e+06  1.048575e+06                           1.048575e+06  \n",
       "mean   2.708697e+04  1.046399e+04                           4.565822e-01  \n",
       "std    5.487428e+04  2.230366e+04                           8.029246e-01  \n",
       "min    3.100000e-01  1.000000e-01                           3.312909e-02  \n",
       "25%    7.402500e+03  3.234570e+03                           3.135802e-01  \n",
       "50%    1.458988e+04  5.928480e+03                           4.091384e-01  \n",
       "75%    2.914547e+04  1.134317e+04                           5.192548e-01  \n",
       "max    6.196974e+06  2.562478e+06                           1.575596e+02  "
      ]
     },
     "execution_count": 12,
     "metadata": {},
     "output_type": "execute_result"
    }
   ],
   "source": [
    "df.describe()"
   ]
  },
  {
   "cell_type": "code",
   "execution_count": 13,
   "metadata": {},
   "outputs": [],
   "source": [
    "#renaming hospital county column & hospital name\n",
    "df = df.rename(columns={\"Hospital County\": \"hospitalcounty\"})\n",
    "df = df.rename(columns={\"Hospital Name\": \"hospitalname\"})\n",
    "df = df.rename(columns={\"Home or self care,\": \"homeselfcare\"})\n",
    "df = df.rename(columns={\"Mortality risk\": \"mortalityrisk\"})\n",
    "df = df.rename(columns={\"Emergency dept_yes/No\": \"emergency\"})\n",
    "df = df.rename(columns={\"Hospital Id\": \"hospitalid\"})"
   ]
  },
  {
   "cell_type": "code",
   "execution_count": 14,
   "metadata": {},
   "outputs": [],
   "source": [
    "# Delete multiple columns from the dataframe\n",
    "#removed zipcode, ethnicity, ccsdiagdesc, ccsproccode, ccsproddesc, descillness, peymenttypo2, paymenttypo3, abortion\n",
    "df2 = df.drop([\"hospitalcounty\",\"hospitalname\",\"zip_code_3_digits\",\"ethnicity\",\"ccs_diagnosis_description\",\"ccs_procedure_code\",\"ccs_procedure_description\",\"apr_drg_description\",\"apr_mdc_description\",\"Description_illness\",\"payment_typology_2\", \"payment_typology_3\",\"Abortion\"], axis=1)"
   ]
  },
  {
   "cell_type": "code",
   "execution_count": 15,
   "metadata": {},
   "outputs": [
    {
     "data": {
      "text/plain": [
       "(1048575, 21)"
      ]
     },
     "execution_count": 15,
     "metadata": {},
     "output_type": "execute_result"
    }
   ],
   "source": [
    "#df2 has dataset with columns dropped\n",
    "df2.shape"
   ]
  },
  {
   "cell_type": "code",
   "execution_count": 16,
   "metadata": {},
   "outputs": [
    {
     "data": {
      "text/plain": [
       "Area_Service                             2456\n",
       "Certificate_num                          2456\n",
       "hospitalid                               2456\n",
       "Age                                         0\n",
       "Gender                                      0\n",
       "Cultural_group                              0\n",
       "Days_spend_hsptl                            0\n",
       "Admission_type                              0\n",
       "homeselfcare                                0\n",
       "year_discharge                              0\n",
       "ccs_diagnosis_code                          0\n",
       "Code_illness                                0\n",
       "mortalityrisk                              42\n",
       "Surg_Description                            0\n",
       "Payment_typology_1                          0\n",
       "Weight_baby                                 0\n",
       "emergency                                   0\n",
       "Tot_charg                                   0\n",
       "Tot_cost                                    0\n",
       "ratio_of_total_costs_to_total_charges       0\n",
       "Result                                      0\n",
       "dtype: int64"
      ]
     },
     "execution_count": 16,
     "metadata": {},
     "output_type": "execute_result"
    }
   ],
   "source": [
    "#sum of missing values in each column\n",
    "df2.isnull().sum()"
   ]
  },
  {
   "cell_type": "code",
   "execution_count": 17,
   "metadata": {},
   "outputs": [],
   "source": [
    "#remove entire row with any missing value\n",
    "df3 = df2.dropna()"
   ]
  },
  {
   "cell_type": "code",
   "execution_count": 18,
   "metadata": {},
   "outputs": [
    {
     "data": {
      "text/plain": [
       "(1046077, 21)"
      ]
     },
     "execution_count": 18,
     "metadata": {},
     "output_type": "execute_result"
    }
   ],
   "source": [
    "#df3 has full dataset with null values and columns removed\n",
    "df3.shape"
   ]
  },
  {
   "cell_type": "code",
   "execution_count": 19,
   "metadata": {},
   "outputs": [],
   "source": [
    "#df4 was created to convert all qualitative values of df3 columns\n",
    "df4 = df3"
   ]
  },
  {
   "cell_type": "code",
   "execution_count": 20,
   "metadata": {},
   "outputs": [
    {
     "data": {
      "text/plain": [
       "(1046077, 21)"
      ]
     },
     "execution_count": 20,
     "metadata": {},
     "output_type": "execute_result"
    }
   ],
   "source": [
    "df4.shape"
   ]
  },
  {
   "cell_type": "code",
   "execution_count": 21,
   "metadata": {},
   "outputs": [
    {
     "data": {
      "text/plain": [
       "Area_Service                              object\n",
       "Certificate_num                          float64\n",
       "hospitalid                               float64\n",
       "Age                                       object\n",
       "Gender                                    object\n",
       "Cultural_group                            object\n",
       "Days_spend_hsptl                           int64\n",
       "Admission_type                            object\n",
       "homeselfcare                              object\n",
       "year_discharge                             int64\n",
       "ccs_diagnosis_code                         int64\n",
       "Code_illness                               int64\n",
       "mortalityrisk                             object\n",
       "Surg_Description                          object\n",
       "Payment_typology_1                        object\n",
       "Weight_baby                                int64\n",
       "emergency                                 object\n",
       "Tot_charg                                float64\n",
       "Tot_cost                                 float64\n",
       "ratio_of_total_costs_to_total_charges    float64\n",
       "Result                                    object\n",
       "dtype: object"
      ]
     },
     "execution_count": 21,
     "metadata": {},
     "output_type": "execute_result"
    }
   ],
   "source": [
    "df3.dtypes"
   ]
  },
  {
   "cell_type": "code",
   "execution_count": 22,
   "metadata": {},
   "outputs": [
    {
     "data": {
      "text/plain": [
       "Hudson Valley      261064\n",
       "Western NY         180458\n",
       "Central NY         171249\n",
       "Capital/Adirond    170648\n",
       "Finger Lakes       156183\n",
       "New York City       74627\n",
       "Southern Tier       31848\n",
       "Name: Area_Service, dtype: int64"
      ]
     },
     "execution_count": 22,
     "metadata": {},
     "output_type": "execute_result"
    }
   ],
   "source": [
    "#unique value of the attribute and their count\n",
    "df3.Area_Service.value_counts()"
   ]
  },
  {
   "cell_type": "code",
   "execution_count": 23,
   "metadata": {},
   "outputs": [
    {
     "name": "stderr",
     "output_type": "stream",
     "text": [
      "C:\\Users\\Parth Shah\\anaconda3\\lib\\site-packages\\ipykernel_launcher.py:2: SettingWithCopyWarning: \n",
      "A value is trying to be set on a copy of a slice from a DataFrame.\n",
      "Try using .loc[row_indexer,col_indexer] = value instead\n",
      "\n",
      "See the caveats in the documentation: https://pandas.pydata.org/pandas-docs/stable/user_guide/indexing.html#returning-a-view-versus-a-copy\n",
      "  \n",
      "C:\\Users\\Parth Shah\\anaconda3\\lib\\site-packages\\ipykernel_launcher.py:3: SettingWithCopyWarning: \n",
      "A value is trying to be set on a copy of a slice from a DataFrame.\n",
      "Try using .loc[row_indexer,col_indexer] = value instead\n",
      "\n",
      "See the caveats in the documentation: https://pandas.pydata.org/pandas-docs/stable/user_guide/indexing.html#returning-a-view-versus-a-copy\n",
      "  This is separate from the ipykernel package so we can avoid doing imports until\n"
     ]
    }
   ],
   "source": [
    "#codes assigned to unique values\n",
    "df4[\"Area_Service\"] = df3[\"Area_Service\"].astype('category')\n",
    "df4[\"Area_Service\"] = df3[\"Area_Service\"].cat.codes"
   ]
  },
  {
   "cell_type": "code",
   "execution_count": 24,
   "metadata": {},
   "outputs": [
    {
     "data": {
      "text/plain": [
       "70 or Older    305859\n",
       "50 to 69       281841\n",
       "30 to 49       197970\n",
       "0 to 17        144227\n",
       "18 to 29       116180\n",
       "Name: Age, dtype: int64"
      ]
     },
     "execution_count": 24,
     "metadata": {},
     "output_type": "execute_result"
    }
   ],
   "source": [
    "#unique value of the attribute and their count\n",
    "df3.Age.value_counts()"
   ]
  },
  {
   "cell_type": "code",
   "execution_count": 25,
   "metadata": {},
   "outputs": [
    {
     "name": "stderr",
     "output_type": "stream",
     "text": [
      "C:\\Users\\Parth Shah\\anaconda3\\lib\\site-packages\\ipykernel_launcher.py:1: SettingWithCopyWarning: \n",
      "A value is trying to be set on a copy of a slice from a DataFrame.\n",
      "Try using .loc[row_indexer,col_indexer] = value instead\n",
      "\n",
      "See the caveats in the documentation: https://pandas.pydata.org/pandas-docs/stable/user_guide/indexing.html#returning-a-view-versus-a-copy\n",
      "  \"\"\"Entry point for launching an IPython kernel.\n",
      "C:\\Users\\Parth Shah\\anaconda3\\lib\\site-packages\\ipykernel_launcher.py:2: SettingWithCopyWarning: \n",
      "A value is trying to be set on a copy of a slice from a DataFrame.\n",
      "Try using .loc[row_indexer,col_indexer] = value instead\n",
      "\n",
      "See the caveats in the documentation: https://pandas.pydata.org/pandas-docs/stable/user_guide/indexing.html#returning-a-view-versus-a-copy\n",
      "  \n"
     ]
    }
   ],
   "source": [
    "df4[\"Age\"] = df3[\"Age\"].astype('category')\n",
    "df4[\"Age\"] = df3[\"Age\"].cat.codes"
   ]
  },
  {
   "cell_type": "code",
   "execution_count": 26,
   "metadata": {},
   "outputs": [
    {
     "data": {
      "text/plain": [
       "F    591534\n",
       "M    454516\n",
       "U        27\n",
       "Name: Gender, dtype: int64"
      ]
     },
     "execution_count": 26,
     "metadata": {},
     "output_type": "execute_result"
    }
   ],
   "source": [
    "#unique value of the attribute and their count\n",
    "df3.Gender.value_counts()"
   ]
  },
  {
   "cell_type": "code",
   "execution_count": 27,
   "metadata": {},
   "outputs": [
    {
     "name": "stderr",
     "output_type": "stream",
     "text": [
      "C:\\Users\\Parth Shah\\anaconda3\\lib\\site-packages\\ipykernel_launcher.py:1: SettingWithCopyWarning: \n",
      "A value is trying to be set on a copy of a slice from a DataFrame.\n",
      "Try using .loc[row_indexer,col_indexer] = value instead\n",
      "\n",
      "See the caveats in the documentation: https://pandas.pydata.org/pandas-docs/stable/user_guide/indexing.html#returning-a-view-versus-a-copy\n",
      "  \"\"\"Entry point for launching an IPython kernel.\n",
      "C:\\Users\\Parth Shah\\anaconda3\\lib\\site-packages\\ipykernel_launcher.py:2: SettingWithCopyWarning: \n",
      "A value is trying to be set on a copy of a slice from a DataFrame.\n",
      "Try using .loc[row_indexer,col_indexer] = value instead\n",
      "\n",
      "See the caveats in the documentation: https://pandas.pydata.org/pandas-docs/stable/user_guide/indexing.html#returning-a-view-versus-a-copy\n",
      "  \n"
     ]
    }
   ],
   "source": [
    "df4[\"Gender\"] = df3[\"Gender\"].astype('category')\n",
    "df4[\"Gender\"] = df3[\"Gender\"].cat.codes"
   ]
  },
  {
   "cell_type": "code",
   "execution_count": 28,
   "metadata": {},
   "outputs": [
    {
     "data": {
      "text/plain": [
       "White                     780716\n",
       "Black/African American    134496\n",
       "Other Race                127188\n",
       "Unknown                     3677\n",
       "Name: Cultural_group, dtype: int64"
      ]
     },
     "execution_count": 28,
     "metadata": {},
     "output_type": "execute_result"
    }
   ],
   "source": [
    "df3.Cultural_group.value_counts()"
   ]
  },
  {
   "cell_type": "code",
   "execution_count": 29,
   "metadata": {},
   "outputs": [
    {
     "name": "stderr",
     "output_type": "stream",
     "text": [
      "C:\\Users\\Parth Shah\\anaconda3\\lib\\site-packages\\ipykernel_launcher.py:1: SettingWithCopyWarning: \n",
      "A value is trying to be set on a copy of a slice from a DataFrame.\n",
      "Try using .loc[row_indexer,col_indexer] = value instead\n",
      "\n",
      "See the caveats in the documentation: https://pandas.pydata.org/pandas-docs/stable/user_guide/indexing.html#returning-a-view-versus-a-copy\n",
      "  \"\"\"Entry point for launching an IPython kernel.\n",
      "C:\\Users\\Parth Shah\\anaconda3\\lib\\site-packages\\ipykernel_launcher.py:2: SettingWithCopyWarning: \n",
      "A value is trying to be set on a copy of a slice from a DataFrame.\n",
      "Try using .loc[row_indexer,col_indexer] = value instead\n",
      "\n",
      "See the caveats in the documentation: https://pandas.pydata.org/pandas-docs/stable/user_guide/indexing.html#returning-a-view-versus-a-copy\n",
      "  \n"
     ]
    }
   ],
   "source": [
    "df4[\"Cultural_group\"] = df3[\"Cultural_group\"].astype('category')\n",
    "df4[\"Cultural_group\"] = df3[\"Cultural_group\"].cat.codes"
   ]
  },
  {
   "cell_type": "code",
   "execution_count": 30,
   "metadata": {},
   "outputs": [
    {
     "data": {
      "text/plain": [
       "2      235990\n",
       "3      190094\n",
       "1      154648\n",
       "4      113658\n",
       "5       73621\n",
       "        ...  \n",
       "108        20\n",
       "116        20\n",
       "110        19\n",
       "101        15\n",
       "113         7\n",
       "Name: Days_spend_hsptl, Length: 120, dtype: int64"
      ]
     },
     "execution_count": 30,
     "metadata": {},
     "output_type": "execute_result"
    }
   ],
   "source": [
    "df3.Days_spend_hsptl.value_counts()"
   ]
  },
  {
   "cell_type": "code",
   "execution_count": 31,
   "metadata": {},
   "outputs": [
    {
     "name": "stderr",
     "output_type": "stream",
     "text": [
      "C:\\Users\\Parth Shah\\anaconda3\\lib\\site-packages\\ipykernel_launcher.py:1: SettingWithCopyWarning: \n",
      "A value is trying to be set on a copy of a slice from a DataFrame.\n",
      "Try using .loc[row_indexer,col_indexer] = value instead\n",
      "\n",
      "See the caveats in the documentation: https://pandas.pydata.org/pandas-docs/stable/user_guide/indexing.html#returning-a-view-versus-a-copy\n",
      "  \"\"\"Entry point for launching an IPython kernel.\n"
     ]
    }
   ],
   "source": [
    "df4[\"Days_spend_hsptl\"] = df3['Days_spend_hsptl'].astype('int')\n"
   ]
  },
  {
   "cell_type": "code",
   "execution_count": 32,
   "metadata": {},
   "outputs": [
    {
     "data": {
      "text/plain": [
       "Emergency        607031\n",
       "Elective         235212\n",
       "Urgent           110009\n",
       "Newborn           90553\n",
       "Trauma             2256\n",
       "Not Available      1016\n",
       "Name: Admission_type, dtype: int64"
      ]
     },
     "execution_count": 32,
     "metadata": {},
     "output_type": "execute_result"
    }
   ],
   "source": [
    "df3.Admission_type.value_counts()"
   ]
  },
  {
   "cell_type": "code",
   "execution_count": 33,
   "metadata": {},
   "outputs": [
    {
     "name": "stderr",
     "output_type": "stream",
     "text": [
      "C:\\Users\\Parth Shah\\anaconda3\\lib\\site-packages\\ipykernel_launcher.py:1: SettingWithCopyWarning: \n",
      "A value is trying to be set on a copy of a slice from a DataFrame.\n",
      "Try using .loc[row_indexer,col_indexer] = value instead\n",
      "\n",
      "See the caveats in the documentation: https://pandas.pydata.org/pandas-docs/stable/user_guide/indexing.html#returning-a-view-versus-a-copy\n",
      "  \"\"\"Entry point for launching an IPython kernel.\n",
      "C:\\Users\\Parth Shah\\anaconda3\\lib\\site-packages\\ipykernel_launcher.py:2: SettingWithCopyWarning: \n",
      "A value is trying to be set on a copy of a slice from a DataFrame.\n",
      "Try using .loc[row_indexer,col_indexer] = value instead\n",
      "\n",
      "See the caveats in the documentation: https://pandas.pydata.org/pandas-docs/stable/user_guide/indexing.html#returning-a-view-versus-a-copy\n",
      "  \n"
     ]
    }
   ],
   "source": [
    "df4[\"Admission_type\"] = df3[\"Admission_type\"].astype('category')\n",
    "df4[\"Admission_type\"] = df3[\"Admission_type\"].cat.codes"
   ]
  },
  {
   "cell_type": "code",
   "execution_count": 34,
   "metadata": {},
   "outputs": [
    {
     "data": {
      "text/plain": [
       "Home or Self Care                        692655\n",
       "Home w/ Home Health Services             132032\n",
       "Skilled Nursing Home                     108933\n",
       "Expired                                   22792\n",
       "Short-term Hospital                       21419\n",
       "Inpatient Rehabilitation Facility         17367\n",
       "Left Against Medical Advice               16997\n",
       "Psychiatric Hospital or Unit of Hosp       6700\n",
       "Hospice - Medical Facility                 4781\n",
       "Hospice - Home                             4735\n",
       "Another Type Not Listed                    4546\n",
       "Facility w/ Custodial/Supportive Care      3481\n",
       "Court/Law Enforcement                      3262\n",
       "Medicare Cert Long Term Care Hospital      2128\n",
       "Cancer Center or Children's Hospital       1881\n",
       "Hosp Basd Medicare Approved Swing Bed      1874\n",
       "Federal Health Care Facility                455\n",
       "Critical Access Hospital                     32\n",
       "Medicaid Cert Nursing Facility                7\n",
       "Name: homeselfcare, dtype: int64"
      ]
     },
     "execution_count": 34,
     "metadata": {},
     "output_type": "execute_result"
    }
   ],
   "source": [
    "df3.homeselfcare.value_counts() "
   ]
  },
  {
   "cell_type": "code",
   "execution_count": 35,
   "metadata": {},
   "outputs": [
    {
     "name": "stderr",
     "output_type": "stream",
     "text": [
      "C:\\Users\\Parth Shah\\anaconda3\\lib\\site-packages\\ipykernel_launcher.py:1: SettingWithCopyWarning: \n",
      "A value is trying to be set on a copy of a slice from a DataFrame.\n",
      "Try using .loc[row_indexer,col_indexer] = value instead\n",
      "\n",
      "See the caveats in the documentation: https://pandas.pydata.org/pandas-docs/stable/user_guide/indexing.html#returning-a-view-versus-a-copy\n",
      "  \"\"\"Entry point for launching an IPython kernel.\n",
      "C:\\Users\\Parth Shah\\anaconda3\\lib\\site-packages\\ipykernel_launcher.py:2: SettingWithCopyWarning: \n",
      "A value is trying to be set on a copy of a slice from a DataFrame.\n",
      "Try using .loc[row_indexer,col_indexer] = value instead\n",
      "\n",
      "See the caveats in the documentation: https://pandas.pydata.org/pandas-docs/stable/user_guide/indexing.html#returning-a-view-versus-a-copy\n",
      "  \n"
     ]
    }
   ],
   "source": [
    "df4[\"homeselfcare\"] = df3[\"homeselfcare\"].astype('category')\n",
    "df4[\"homeselfcare\"] = df3[\"homeselfcare\"].cat.codes"
   ]
  },
  {
   "cell_type": "code",
   "execution_count": 36,
   "metadata": {},
   "outputs": [
    {
     "data": {
      "text/plain": [
       "Minor       613064\n",
       "Moderate    232116\n",
       "Major       141230\n",
       "Extreme      59667\n",
       "Name: mortalityrisk, dtype: int64"
      ]
     },
     "execution_count": 36,
     "metadata": {},
     "output_type": "execute_result"
    }
   ],
   "source": [
    "df3.mortalityrisk.value_counts()"
   ]
  },
  {
   "cell_type": "code",
   "execution_count": 37,
   "metadata": {},
   "outputs": [
    {
     "name": "stderr",
     "output_type": "stream",
     "text": [
      "C:\\Users\\Parth Shah\\anaconda3\\lib\\site-packages\\ipykernel_launcher.py:1: SettingWithCopyWarning: \n",
      "A value is trying to be set on a copy of a slice from a DataFrame.\n",
      "Try using .loc[row_indexer,col_indexer] = value instead\n",
      "\n",
      "See the caveats in the documentation: https://pandas.pydata.org/pandas-docs/stable/user_guide/indexing.html#returning-a-view-versus-a-copy\n",
      "  \"\"\"Entry point for launching an IPython kernel.\n",
      "C:\\Users\\Parth Shah\\anaconda3\\lib\\site-packages\\ipykernel_launcher.py:2: SettingWithCopyWarning: \n",
      "A value is trying to be set on a copy of a slice from a DataFrame.\n",
      "Try using .loc[row_indexer,col_indexer] = value instead\n",
      "\n",
      "See the caveats in the documentation: https://pandas.pydata.org/pandas-docs/stable/user_guide/indexing.html#returning-a-view-versus-a-copy\n",
      "  \n"
     ]
    }
   ],
   "source": [
    "df4[\"mortalityrisk\"] = df3[\"mortalityrisk\"].astype('category')\n",
    "df4[\"mortalityrisk\"] = df3[\"mortalityrisk\"].cat.codes"
   ]
  },
  {
   "cell_type": "code",
   "execution_count": 38,
   "metadata": {},
   "outputs": [
    {
     "data": {
      "text/plain": [
       "Medical     804331\n",
       "Surgical    241746\n",
       "Name: Surg_Description, dtype: int64"
      ]
     },
     "execution_count": 38,
     "metadata": {},
     "output_type": "execute_result"
    }
   ],
   "source": [
    "df3.Surg_Description.value_counts()"
   ]
  },
  {
   "cell_type": "code",
   "execution_count": 39,
   "metadata": {},
   "outputs": [
    {
     "name": "stderr",
     "output_type": "stream",
     "text": [
      "C:\\Users\\Parth Shah\\anaconda3\\lib\\site-packages\\ipykernel_launcher.py:1: SettingWithCopyWarning: \n",
      "A value is trying to be set on a copy of a slice from a DataFrame.\n",
      "Try using .loc[row_indexer,col_indexer] = value instead\n",
      "\n",
      "See the caveats in the documentation: https://pandas.pydata.org/pandas-docs/stable/user_guide/indexing.html#returning-a-view-versus-a-copy\n",
      "  \"\"\"Entry point for launching an IPython kernel.\n",
      "C:\\Users\\Parth Shah\\anaconda3\\lib\\site-packages\\ipykernel_launcher.py:2: SettingWithCopyWarning: \n",
      "A value is trying to be set on a copy of a slice from a DataFrame.\n",
      "Try using .loc[row_indexer,col_indexer] = value instead\n",
      "\n",
      "See the caveats in the documentation: https://pandas.pydata.org/pandas-docs/stable/user_guide/indexing.html#returning-a-view-versus-a-copy\n",
      "  \n"
     ]
    }
   ],
   "source": [
    "df4[\"Surg_Description\"] = df3[\"Surg_Description\"].astype('category')\n",
    "df4[\"Surg_Description\"] = df3[\"Surg_Description\"].cat.codes"
   ]
  },
  {
   "cell_type": "code",
   "execution_count": 40,
   "metadata": {},
   "outputs": [
    {
     "data": {
      "text/plain": [
       "Medicare                     433627\n",
       "Medicaid                     247896\n",
       "Blue Cross/Blue Shield       151122\n",
       "Private Health Insurance     128776\n",
       "Self-Pay                      32734\n",
       "Managed Care, Unspecified     19739\n",
       "Miscellaneous/Other           18356\n",
       "Federal/State/Local/VA        10727\n",
       "Department of Corrections      3056\n",
       "Unknown                          44\n",
       "Name: Payment_typology_1, dtype: int64"
      ]
     },
     "execution_count": 40,
     "metadata": {},
     "output_type": "execute_result"
    }
   ],
   "source": [
    "df3.Payment_typology_1.value_counts()"
   ]
  },
  {
   "cell_type": "code",
   "execution_count": 41,
   "metadata": {},
   "outputs": [
    {
     "name": "stderr",
     "output_type": "stream",
     "text": [
      "C:\\Users\\Parth Shah\\anaconda3\\lib\\site-packages\\ipykernel_launcher.py:1: SettingWithCopyWarning: \n",
      "A value is trying to be set on a copy of a slice from a DataFrame.\n",
      "Try using .loc[row_indexer,col_indexer] = value instead\n",
      "\n",
      "See the caveats in the documentation: https://pandas.pydata.org/pandas-docs/stable/user_guide/indexing.html#returning-a-view-versus-a-copy\n",
      "  \"\"\"Entry point for launching an IPython kernel.\n",
      "C:\\Users\\Parth Shah\\anaconda3\\lib\\site-packages\\ipykernel_launcher.py:2: SettingWithCopyWarning: \n",
      "A value is trying to be set on a copy of a slice from a DataFrame.\n",
      "Try using .loc[row_indexer,col_indexer] = value instead\n",
      "\n",
      "See the caveats in the documentation: https://pandas.pydata.org/pandas-docs/stable/user_guide/indexing.html#returning-a-view-versus-a-copy\n",
      "  \n"
     ]
    }
   ],
   "source": [
    "df4[\"Payment_typology_1\"] = df3[\"Payment_typology_1\"].astype('category')\n",
    "df4[\"Payment_typology_1\"] = df3[\"Payment_typology_1\"].cat.codes"
   ]
  },
  {
   "cell_type": "code",
   "execution_count": 42,
   "metadata": {},
   "outputs": [
    {
     "data": {
      "text/plain": [
       "Y    588426\n",
       "N    457651\n",
       "Name: emergency, dtype: int64"
      ]
     },
     "execution_count": 42,
     "metadata": {},
     "output_type": "execute_result"
    }
   ],
   "source": [
    "df3.emergency.value_counts()"
   ]
  },
  {
   "cell_type": "code",
   "execution_count": 43,
   "metadata": {},
   "outputs": [
    {
     "name": "stderr",
     "output_type": "stream",
     "text": [
      "C:\\Users\\Parth Shah\\anaconda3\\lib\\site-packages\\ipykernel_launcher.py:1: SettingWithCopyWarning: \n",
      "A value is trying to be set on a copy of a slice from a DataFrame.\n",
      "Try using .loc[row_indexer,col_indexer] = value instead\n",
      "\n",
      "See the caveats in the documentation: https://pandas.pydata.org/pandas-docs/stable/user_guide/indexing.html#returning-a-view-versus-a-copy\n",
      "  \"\"\"Entry point for launching an IPython kernel.\n",
      "C:\\Users\\Parth Shah\\anaconda3\\lib\\site-packages\\ipykernel_launcher.py:2: SettingWithCopyWarning: \n",
      "A value is trying to be set on a copy of a slice from a DataFrame.\n",
      "Try using .loc[row_indexer,col_indexer] = value instead\n",
      "\n",
      "See the caveats in the documentation: https://pandas.pydata.org/pandas-docs/stable/user_guide/indexing.html#returning-a-view-versus-a-copy\n",
      "  \n"
     ]
    }
   ],
   "source": [
    "df4[\"emergency\"] = df3[\"emergency\"].astype('category')\n",
    "df4[\"emergency\"] = df3[\"emergency\"].cat.codes"
   ]
  },
  {
   "cell_type": "code",
   "execution_count": 44,
   "metadata": {},
   "outputs": [
    {
     "data": {
      "text/plain": [
       "Genuine       784578\n",
       "Fraudulent    261499\n",
       "Name: Result, dtype: int64"
      ]
     },
     "execution_count": 44,
     "metadata": {},
     "output_type": "execute_result"
    }
   ],
   "source": [
    "df3.Result.value_counts()"
   ]
  },
  {
   "cell_type": "code",
   "execution_count": 45,
   "metadata": {},
   "outputs": [
    {
     "name": "stderr",
     "output_type": "stream",
     "text": [
      "C:\\Users\\Parth Shah\\anaconda3\\lib\\site-packages\\ipykernel_launcher.py:1: SettingWithCopyWarning: \n",
      "A value is trying to be set on a copy of a slice from a DataFrame.\n",
      "Try using .loc[row_indexer,col_indexer] = value instead\n",
      "\n",
      "See the caveats in the documentation: https://pandas.pydata.org/pandas-docs/stable/user_guide/indexing.html#returning-a-view-versus-a-copy\n",
      "  \"\"\"Entry point for launching an IPython kernel.\n",
      "C:\\Users\\Parth Shah\\anaconda3\\lib\\site-packages\\ipykernel_launcher.py:2: SettingWithCopyWarning: \n",
      "A value is trying to be set on a copy of a slice from a DataFrame.\n",
      "Try using .loc[row_indexer,col_indexer] = value instead\n",
      "\n",
      "See the caveats in the documentation: https://pandas.pydata.org/pandas-docs/stable/user_guide/indexing.html#returning-a-view-versus-a-copy\n",
      "  \n"
     ]
    }
   ],
   "source": [
    "df4[\"Result\"] = df3[\"Result\"].astype('category')\n",
    "df4[\"Result\"] = df3[\"Result\"].cat.codes"
   ]
  },
  {
   "cell_type": "code",
   "execution_count": 46,
   "metadata": {},
   "outputs": [
    {
     "data": {
      "text/plain": [
       "Area_Service                                int8\n",
       "Certificate_num                          float64\n",
       "hospitalid                               float64\n",
       "Age                                         int8\n",
       "Gender                                      int8\n",
       "Cultural_group                              int8\n",
       "Days_spend_hsptl                           int32\n",
       "Admission_type                              int8\n",
       "homeselfcare                                int8\n",
       "year_discharge                             int64\n",
       "ccs_diagnosis_code                         int64\n",
       "Code_illness                               int64\n",
       "mortalityrisk                               int8\n",
       "Surg_Description                            int8\n",
       "Payment_typology_1                          int8\n",
       "Weight_baby                                int64\n",
       "emergency                                   int8\n",
       "Tot_charg                                float64\n",
       "Tot_cost                                 float64\n",
       "ratio_of_total_costs_to_total_charges    float64\n",
       "Result                                      int8\n",
       "dtype: object"
      ]
     },
     "execution_count": 46,
     "metadata": {},
     "output_type": "execute_result"
    }
   ],
   "source": [
    "df4.dtypes"
   ]
  },
  {
   "cell_type": "code",
   "execution_count": 47,
   "metadata": {},
   "outputs": [
    {
     "data": {
      "text/plain": [
       "(1046077, 21)"
      ]
     },
     "execution_count": 47,
     "metadata": {},
     "output_type": "execute_result"
    }
   ],
   "source": [
    "df4.shape"
   ]
  },
  {
   "cell_type": "code",
   "execution_count": 48,
   "metadata": {},
   "outputs": [
    {
     "data": {
      "text/html": [
       "<div>\n",
       "<style scoped>\n",
       "    .dataframe tbody tr th:only-of-type {\n",
       "        vertical-align: middle;\n",
       "    }\n",
       "\n",
       "    .dataframe tbody tr th {\n",
       "        vertical-align: top;\n",
       "    }\n",
       "\n",
       "    .dataframe thead th {\n",
       "        text-align: right;\n",
       "    }\n",
       "</style>\n",
       "<table border=\"1\" class=\"dataframe\">\n",
       "  <thead>\n",
       "    <tr style=\"text-align: right;\">\n",
       "      <th></th>\n",
       "      <th>Area_Service</th>\n",
       "      <th>Certificate_num</th>\n",
       "      <th>hospitalid</th>\n",
       "      <th>Age</th>\n",
       "      <th>Gender</th>\n",
       "      <th>Cultural_group</th>\n",
       "      <th>Days_spend_hsptl</th>\n",
       "      <th>Admission_type</th>\n",
       "      <th>homeselfcare</th>\n",
       "      <th>year_discharge</th>\n",
       "      <th>...</th>\n",
       "      <th>Code_illness</th>\n",
       "      <th>mortalityrisk</th>\n",
       "      <th>Surg_Description</th>\n",
       "      <th>Payment_typology_1</th>\n",
       "      <th>Weight_baby</th>\n",
       "      <th>emergency</th>\n",
       "      <th>Tot_charg</th>\n",
       "      <th>Tot_cost</th>\n",
       "      <th>ratio_of_total_costs_to_total_charges</th>\n",
       "      <th>Result</th>\n",
       "    </tr>\n",
       "  </thead>\n",
       "  <tbody>\n",
       "    <tr>\n",
       "      <th>0</th>\n",
       "      <td>6</td>\n",
       "      <td>226700.0</td>\n",
       "      <td>37.0</td>\n",
       "      <td>2</td>\n",
       "      <td>0</td>\n",
       "      <td>3</td>\n",
       "      <td>4</td>\n",
       "      <td>0</td>\n",
       "      <td>7</td>\n",
       "      <td>2012</td>\n",
       "      <td>...</td>\n",
       "      <td>1</td>\n",
       "      <td>2</td>\n",
       "      <td>0</td>\n",
       "      <td>0</td>\n",
       "      <td>0</td>\n",
       "      <td>1</td>\n",
       "      <td>5511.95</td>\n",
       "      <td>5582.49</td>\n",
       "      <td>1.012798</td>\n",
       "      <td>1</td>\n",
       "    </tr>\n",
       "    <tr>\n",
       "      <th>1</th>\n",
       "      <td>6</td>\n",
       "      <td>226700.0</td>\n",
       "      <td>37.0</td>\n",
       "      <td>4</td>\n",
       "      <td>0</td>\n",
       "      <td>3</td>\n",
       "      <td>4</td>\n",
       "      <td>5</td>\n",
       "      <td>17</td>\n",
       "      <td>2012</td>\n",
       "      <td>...</td>\n",
       "      <td>3</td>\n",
       "      <td>1</td>\n",
       "      <td>0</td>\n",
       "      <td>5</td>\n",
       "      <td>0</td>\n",
       "      <td>1</td>\n",
       "      <td>4783.20</td>\n",
       "      <td>5162.82</td>\n",
       "      <td>1.079365</td>\n",
       "      <td>1</td>\n",
       "    </tr>\n",
       "    <tr>\n",
       "      <th>2</th>\n",
       "      <td>6</td>\n",
       "      <td>226700.0</td>\n",
       "      <td>37.0</td>\n",
       "      <td>2</td>\n",
       "      <td>0</td>\n",
       "      <td>3</td>\n",
       "      <td>3</td>\n",
       "      <td>5</td>\n",
       "      <td>7</td>\n",
       "      <td>2012</td>\n",
       "      <td>...</td>\n",
       "      <td>1</td>\n",
       "      <td>2</td>\n",
       "      <td>0</td>\n",
       "      <td>0</td>\n",
       "      <td>0</td>\n",
       "      <td>1</td>\n",
       "      <td>3829.15</td>\n",
       "      <td>4056.52</td>\n",
       "      <td>1.059379</td>\n",
       "      <td>1</td>\n",
       "    </tr>\n",
       "    <tr>\n",
       "      <th>3</th>\n",
       "      <td>6</td>\n",
       "      <td>226700.0</td>\n",
       "      <td>37.0</td>\n",
       "      <td>0</td>\n",
       "      <td>0</td>\n",
       "      <td>3</td>\n",
       "      <td>1</td>\n",
       "      <td>5</td>\n",
       "      <td>7</td>\n",
       "      <td>2012</td>\n",
       "      <td>...</td>\n",
       "      <td>1</td>\n",
       "      <td>2</td>\n",
       "      <td>0</td>\n",
       "      <td>7</td>\n",
       "      <td>0</td>\n",
       "      <td>1</td>\n",
       "      <td>1108.20</td>\n",
       "      <td>1644.75</td>\n",
       "      <td>1.484167</td>\n",
       "      <td>0</td>\n",
       "    </tr>\n",
       "    <tr>\n",
       "      <th>4</th>\n",
       "      <td>6</td>\n",
       "      <td>226700.0</td>\n",
       "      <td>37.0</td>\n",
       "      <td>4</td>\n",
       "      <td>0</td>\n",
       "      <td>3</td>\n",
       "      <td>3</td>\n",
       "      <td>0</td>\n",
       "      <td>7</td>\n",
       "      <td>2012</td>\n",
       "      <td>...</td>\n",
       "      <td>2</td>\n",
       "      <td>3</td>\n",
       "      <td>0</td>\n",
       "      <td>5</td>\n",
       "      <td>0</td>\n",
       "      <td>1</td>\n",
       "      <td>3418.18</td>\n",
       "      <td>3370.87</td>\n",
       "      <td>0.986161</td>\n",
       "      <td>1</td>\n",
       "    </tr>\n",
       "    <tr>\n",
       "      <th>...</th>\n",
       "      <td>...</td>\n",
       "      <td>...</td>\n",
       "      <td>...</td>\n",
       "      <td>...</td>\n",
       "      <td>...</td>\n",
       "      <td>...</td>\n",
       "      <td>...</td>\n",
       "      <td>...</td>\n",
       "      <td>...</td>\n",
       "      <td>...</td>\n",
       "      <td>...</td>\n",
       "      <td>...</td>\n",
       "      <td>...</td>\n",
       "      <td>...</td>\n",
       "      <td>...</td>\n",
       "      <td>...</td>\n",
       "      <td>...</td>\n",
       "      <td>...</td>\n",
       "      <td>...</td>\n",
       "      <td>...</td>\n",
       "      <td>...</td>\n",
       "    </tr>\n",
       "    <tr>\n",
       "      <th>1048570</th>\n",
       "      <td>4</td>\n",
       "      <td>7000006.0</td>\n",
       "      <td>1169.0</td>\n",
       "      <td>4</td>\n",
       "      <td>0</td>\n",
       "      <td>1</td>\n",
       "      <td>6</td>\n",
       "      <td>1</td>\n",
       "      <td>18</td>\n",
       "      <td>2012</td>\n",
       "      <td>...</td>\n",
       "      <td>2</td>\n",
       "      <td>3</td>\n",
       "      <td>0</td>\n",
       "      <td>5</td>\n",
       "      <td>0</td>\n",
       "      <td>1</td>\n",
       "      <td>69650.41</td>\n",
       "      <td>13896.82</td>\n",
       "      <td>0.199522</td>\n",
       "      <td>1</td>\n",
       "    </tr>\n",
       "    <tr>\n",
       "      <th>1048571</th>\n",
       "      <td>4</td>\n",
       "      <td>7000006.0</td>\n",
       "      <td>1169.0</td>\n",
       "      <td>0</td>\n",
       "      <td>0</td>\n",
       "      <td>1</td>\n",
       "      <td>2</td>\n",
       "      <td>1</td>\n",
       "      <td>7</td>\n",
       "      <td>2012</td>\n",
       "      <td>...</td>\n",
       "      <td>2</td>\n",
       "      <td>2</td>\n",
       "      <td>0</td>\n",
       "      <td>4</td>\n",
       "      <td>0</td>\n",
       "      <td>0</td>\n",
       "      <td>13587.38</td>\n",
       "      <td>3918.35</td>\n",
       "      <td>0.288382</td>\n",
       "      <td>1</td>\n",
       "    </tr>\n",
       "    <tr>\n",
       "      <th>1048572</th>\n",
       "      <td>4</td>\n",
       "      <td>7000006.0</td>\n",
       "      <td>1169.0</td>\n",
       "      <td>3</td>\n",
       "      <td>1</td>\n",
       "      <td>1</td>\n",
       "      <td>13</td>\n",
       "      <td>1</td>\n",
       "      <td>15</td>\n",
       "      <td>2012</td>\n",
       "      <td>...</td>\n",
       "      <td>4</td>\n",
       "      <td>0</td>\n",
       "      <td>0</td>\n",
       "      <td>4</td>\n",
       "      <td>0</td>\n",
       "      <td>1</td>\n",
       "      <td>104629.78</td>\n",
       "      <td>24746.64</td>\n",
       "      <td>0.236516</td>\n",
       "      <td>0</td>\n",
       "    </tr>\n",
       "    <tr>\n",
       "      <th>1048573</th>\n",
       "      <td>4</td>\n",
       "      <td>7000006.0</td>\n",
       "      <td>1169.0</td>\n",
       "      <td>2</td>\n",
       "      <td>0</td>\n",
       "      <td>0</td>\n",
       "      <td>2</td>\n",
       "      <td>1</td>\n",
       "      <td>7</td>\n",
       "      <td>2012</td>\n",
       "      <td>...</td>\n",
       "      <td>1</td>\n",
       "      <td>2</td>\n",
       "      <td>1</td>\n",
       "      <td>4</td>\n",
       "      <td>0</td>\n",
       "      <td>1</td>\n",
       "      <td>27521.41</td>\n",
       "      <td>6766.04</td>\n",
       "      <td>0.245846</td>\n",
       "      <td>1</td>\n",
       "    </tr>\n",
       "    <tr>\n",
       "      <th>1048574</th>\n",
       "      <td>4</td>\n",
       "      <td>7000006.0</td>\n",
       "      <td>1169.0</td>\n",
       "      <td>3</td>\n",
       "      <td>1</td>\n",
       "      <td>1</td>\n",
       "      <td>2</td>\n",
       "      <td>1</td>\n",
       "      <td>7</td>\n",
       "      <td>2012</td>\n",
       "      <td>...</td>\n",
       "      <td>1</td>\n",
       "      <td>2</td>\n",
       "      <td>0</td>\n",
       "      <td>7</td>\n",
       "      <td>0</td>\n",
       "      <td>1</td>\n",
       "      <td>24832.23</td>\n",
       "      <td>4974.66</td>\n",
       "      <td>0.200331</td>\n",
       "      <td>1</td>\n",
       "    </tr>\n",
       "  </tbody>\n",
       "</table>\n",
       "<p>1046077 rows × 21 columns</p>\n",
       "</div>"
      ],
      "text/plain": [
       "         Area_Service  Certificate_num  hospitalid  Age  Gender  \\\n",
       "0                   6         226700.0        37.0    2       0   \n",
       "1                   6         226700.0        37.0    4       0   \n",
       "2                   6         226700.0        37.0    2       0   \n",
       "3                   6         226700.0        37.0    0       0   \n",
       "4                   6         226700.0        37.0    4       0   \n",
       "...               ...              ...         ...  ...     ...   \n",
       "1048570             4        7000006.0      1169.0    4       0   \n",
       "1048571             4        7000006.0      1169.0    0       0   \n",
       "1048572             4        7000006.0      1169.0    3       1   \n",
       "1048573             4        7000006.0      1169.0    2       0   \n",
       "1048574             4        7000006.0      1169.0    3       1   \n",
       "\n",
       "         Cultural_group  Days_spend_hsptl  Admission_type  homeselfcare  \\\n",
       "0                     3                 4               0             7   \n",
       "1                     3                 4               5            17   \n",
       "2                     3                 3               5             7   \n",
       "3                     3                 1               5             7   \n",
       "4                     3                 3               0             7   \n",
       "...                 ...               ...             ...           ...   \n",
       "1048570               1                 6               1            18   \n",
       "1048571               1                 2               1             7   \n",
       "1048572               1                13               1            15   \n",
       "1048573               0                 2               1             7   \n",
       "1048574               1                 2               1             7   \n",
       "\n",
       "         year_discharge  ...  Code_illness  mortalityrisk  Surg_Description  \\\n",
       "0                  2012  ...             1              2                 0   \n",
       "1                  2012  ...             3              1                 0   \n",
       "2                  2012  ...             1              2                 0   \n",
       "3                  2012  ...             1              2                 0   \n",
       "4                  2012  ...             2              3                 0   \n",
       "...                 ...  ...           ...            ...               ...   \n",
       "1048570            2012  ...             2              3                 0   \n",
       "1048571            2012  ...             2              2                 0   \n",
       "1048572            2012  ...             4              0                 0   \n",
       "1048573            2012  ...             1              2                 1   \n",
       "1048574            2012  ...             1              2                 0   \n",
       "\n",
       "         Payment_typology_1  Weight_baby  emergency  Tot_charg  Tot_cost  \\\n",
       "0                         0            0          1    5511.95   5582.49   \n",
       "1                         5            0          1    4783.20   5162.82   \n",
       "2                         0            0          1    3829.15   4056.52   \n",
       "3                         7            0          1    1108.20   1644.75   \n",
       "4                         5            0          1    3418.18   3370.87   \n",
       "...                     ...          ...        ...        ...       ...   \n",
       "1048570                   5            0          1   69650.41  13896.82   \n",
       "1048571                   4            0          0   13587.38   3918.35   \n",
       "1048572                   4            0          1  104629.78  24746.64   \n",
       "1048573                   4            0          1   27521.41   6766.04   \n",
       "1048574                   7            0          1   24832.23   4974.66   \n",
       "\n",
       "         ratio_of_total_costs_to_total_charges  Result  \n",
       "0                                     1.012798       1  \n",
       "1                                     1.079365       1  \n",
       "2                                     1.059379       1  \n",
       "3                                     1.484167       0  \n",
       "4                                     0.986161       1  \n",
       "...                                        ...     ...  \n",
       "1048570                               0.199522       1  \n",
       "1048571                               0.288382       1  \n",
       "1048572                               0.236516       0  \n",
       "1048573                               0.245846       1  \n",
       "1048574                               0.200331       1  \n",
       "\n",
       "[1046077 rows x 21 columns]"
      ]
     },
     "execution_count": 48,
     "metadata": {},
     "output_type": "execute_result"
    }
   ],
   "source": [
    "df4"
   ]
  },
  {
   "cell_type": "code",
   "execution_count": 49,
   "metadata": {},
   "outputs": [
    {
     "name": "stdout",
     "output_type": "stream",
     "text": [
      "<class 'pandas.core.frame.DataFrame'>\n",
      "Int64Index: 1046077 entries, 0 to 1048574\n",
      "Data columns (total 21 columns):\n",
      " #   Column                                 Non-Null Count    Dtype  \n",
      "---  ------                                 --------------    -----  \n",
      " 0   Area_Service                           1046077 non-null  int8   \n",
      " 1   Certificate_num                        1046077 non-null  float64\n",
      " 2   hospitalid                             1046077 non-null  float64\n",
      " 3   Age                                    1046077 non-null  int8   \n",
      " 4   Gender                                 1046077 non-null  int8   \n",
      " 5   Cultural_group                         1046077 non-null  int8   \n",
      " 6   Days_spend_hsptl                       1046077 non-null  int32  \n",
      " 7   Admission_type                         1046077 non-null  int8   \n",
      " 8   homeselfcare                           1046077 non-null  int8   \n",
      " 9   year_discharge                         1046077 non-null  int64  \n",
      " 10  ccs_diagnosis_code                     1046077 non-null  int64  \n",
      " 11  Code_illness                           1046077 non-null  int64  \n",
      " 12  mortalityrisk                          1046077 non-null  int8   \n",
      " 13  Surg_Description                       1046077 non-null  int8   \n",
      " 14  Payment_typology_1                     1046077 non-null  int8   \n",
      " 15  Weight_baby                            1046077 non-null  int64  \n",
      " 16  emergency                              1046077 non-null  int8   \n",
      " 17  Tot_charg                              1046077 non-null  float64\n",
      " 18  Tot_cost                               1046077 non-null  float64\n",
      " 19  ratio_of_total_costs_to_total_charges  1046077 non-null  float64\n",
      " 20  Result                                 1046077 non-null  int8   \n",
      "dtypes: float64(5), int32(1), int64(4), int8(11)\n",
      "memory usage: 94.8 MB\n"
     ]
    }
   ],
   "source": [
    "df4.info()"
   ]
  },
  {
   "cell_type": "code",
   "execution_count": 50,
   "metadata": {},
   "outputs": [],
   "source": [
    "#To reset the index count\n",
    "df4 = df4.reset_index() "
   ]
  },
  {
   "cell_type": "code",
   "execution_count": 51,
   "metadata": {},
   "outputs": [],
   "source": [
    "df5 = df4.drop([\"index\",\"year_discharge\",\"Certificate_num\",\"Cultural_group\",\"homeselfcare\",\"Surg_Description\",\"Weight_baby\",\"Tot_charg\",\"Tot_cost\",\"mortalityrisk\"], axis=1)\n",
    "#removed a few more columns to get a better correlation"
   ]
  },
  {
   "cell_type": "code",
   "execution_count": 52,
   "metadata": {},
   "outputs": [
    {
     "data": {
      "text/html": [
       "<div>\n",
       "<style scoped>\n",
       "    .dataframe tbody tr th:only-of-type {\n",
       "        vertical-align: middle;\n",
       "    }\n",
       "\n",
       "    .dataframe tbody tr th {\n",
       "        vertical-align: top;\n",
       "    }\n",
       "\n",
       "    .dataframe thead th {\n",
       "        text-align: right;\n",
       "    }\n",
       "</style>\n",
       "<table border=\"1\" class=\"dataframe\">\n",
       "  <thead>\n",
       "    <tr style=\"text-align: right;\">\n",
       "      <th></th>\n",
       "      <th>Area_Service</th>\n",
       "      <th>hospitalid</th>\n",
       "      <th>Age</th>\n",
       "      <th>Gender</th>\n",
       "      <th>Days_spend_hsptl</th>\n",
       "      <th>Admission_type</th>\n",
       "      <th>ccs_diagnosis_code</th>\n",
       "      <th>Code_illness</th>\n",
       "      <th>Payment_typology_1</th>\n",
       "      <th>emergency</th>\n",
       "      <th>ratio_of_total_costs_to_total_charges</th>\n",
       "      <th>Result</th>\n",
       "    </tr>\n",
       "  </thead>\n",
       "  <tbody>\n",
       "    <tr>\n",
       "      <th>0</th>\n",
       "      <td>6</td>\n",
       "      <td>37.0</td>\n",
       "      <td>2</td>\n",
       "      <td>0</td>\n",
       "      <td>4</td>\n",
       "      <td>0</td>\n",
       "      <td>122</td>\n",
       "      <td>1</td>\n",
       "      <td>0</td>\n",
       "      <td>1</td>\n",
       "      <td>1.012798</td>\n",
       "      <td>1</td>\n",
       "    </tr>\n",
       "    <tr>\n",
       "      <th>1</th>\n",
       "      <td>6</td>\n",
       "      <td>37.0</td>\n",
       "      <td>4</td>\n",
       "      <td>0</td>\n",
       "      <td>4</td>\n",
       "      <td>5</td>\n",
       "      <td>197</td>\n",
       "      <td>3</td>\n",
       "      <td>5</td>\n",
       "      <td>1</td>\n",
       "      <td>1.079365</td>\n",
       "      <td>1</td>\n",
       "    </tr>\n",
       "    <tr>\n",
       "      <th>2</th>\n",
       "      <td>6</td>\n",
       "      <td>37.0</td>\n",
       "      <td>2</td>\n",
       "      <td>0</td>\n",
       "      <td>3</td>\n",
       "      <td>5</td>\n",
       "      <td>122</td>\n",
       "      <td>1</td>\n",
       "      <td>0</td>\n",
       "      <td>1</td>\n",
       "      <td>1.059379</td>\n",
       "      <td>1</td>\n",
       "    </tr>\n",
       "    <tr>\n",
       "      <th>3</th>\n",
       "      <td>6</td>\n",
       "      <td>37.0</td>\n",
       "      <td>0</td>\n",
       "      <td>0</td>\n",
       "      <td>1</td>\n",
       "      <td>5</td>\n",
       "      <td>122</td>\n",
       "      <td>1</td>\n",
       "      <td>7</td>\n",
       "      <td>1</td>\n",
       "      <td>1.484167</td>\n",
       "      <td>0</td>\n",
       "    </tr>\n",
       "    <tr>\n",
       "      <th>4</th>\n",
       "      <td>6</td>\n",
       "      <td>37.0</td>\n",
       "      <td>4</td>\n",
       "      <td>0</td>\n",
       "      <td>3</td>\n",
       "      <td>0</td>\n",
       "      <td>122</td>\n",
       "      <td>2</td>\n",
       "      <td>5</td>\n",
       "      <td>1</td>\n",
       "      <td>0.986161</td>\n",
       "      <td>1</td>\n",
       "    </tr>\n",
       "    <tr>\n",
       "      <th>...</th>\n",
       "      <td>...</td>\n",
       "      <td>...</td>\n",
       "      <td>...</td>\n",
       "      <td>...</td>\n",
       "      <td>...</td>\n",
       "      <td>...</td>\n",
       "      <td>...</td>\n",
       "      <td>...</td>\n",
       "      <td>...</td>\n",
       "      <td>...</td>\n",
       "      <td>...</td>\n",
       "      <td>...</td>\n",
       "    </tr>\n",
       "    <tr>\n",
       "      <th>1046072</th>\n",
       "      <td>4</td>\n",
       "      <td>1169.0</td>\n",
       "      <td>4</td>\n",
       "      <td>0</td>\n",
       "      <td>6</td>\n",
       "      <td>1</td>\n",
       "      <td>106</td>\n",
       "      <td>2</td>\n",
       "      <td>5</td>\n",
       "      <td>1</td>\n",
       "      <td>0.199522</td>\n",
       "      <td>1</td>\n",
       "    </tr>\n",
       "    <tr>\n",
       "      <th>1046073</th>\n",
       "      <td>4</td>\n",
       "      <td>1169.0</td>\n",
       "      <td>0</td>\n",
       "      <td>0</td>\n",
       "      <td>2</td>\n",
       "      <td>1</td>\n",
       "      <td>8</td>\n",
       "      <td>2</td>\n",
       "      <td>4</td>\n",
       "      <td>0</td>\n",
       "      <td>0.288382</td>\n",
       "      <td>1</td>\n",
       "    </tr>\n",
       "    <tr>\n",
       "      <th>1046074</th>\n",
       "      <td>4</td>\n",
       "      <td>1169.0</td>\n",
       "      <td>3</td>\n",
       "      <td>1</td>\n",
       "      <td>13</td>\n",
       "      <td>1</td>\n",
       "      <td>151</td>\n",
       "      <td>4</td>\n",
       "      <td>4</td>\n",
       "      <td>1</td>\n",
       "      <td>0.236516</td>\n",
       "      <td>0</td>\n",
       "    </tr>\n",
       "    <tr>\n",
       "      <th>1046075</th>\n",
       "      <td>4</td>\n",
       "      <td>1169.0</td>\n",
       "      <td>2</td>\n",
       "      <td>0</td>\n",
       "      <td>2</td>\n",
       "      <td>1</td>\n",
       "      <td>143</td>\n",
       "      <td>1</td>\n",
       "      <td>4</td>\n",
       "      <td>1</td>\n",
       "      <td>0.245846</td>\n",
       "      <td>1</td>\n",
       "    </tr>\n",
       "    <tr>\n",
       "      <th>1046076</th>\n",
       "      <td>4</td>\n",
       "      <td>1169.0</td>\n",
       "      <td>3</td>\n",
       "      <td>1</td>\n",
       "      <td>2</td>\n",
       "      <td>1</td>\n",
       "      <td>106</td>\n",
       "      <td>1</td>\n",
       "      <td>7</td>\n",
       "      <td>1</td>\n",
       "      <td>0.200331</td>\n",
       "      <td>1</td>\n",
       "    </tr>\n",
       "  </tbody>\n",
       "</table>\n",
       "<p>1046077 rows × 12 columns</p>\n",
       "</div>"
      ],
      "text/plain": [
       "         Area_Service  hospitalid  Age  Gender  Days_spend_hsptl  \\\n",
       "0                   6        37.0    2       0                 4   \n",
       "1                   6        37.0    4       0                 4   \n",
       "2                   6        37.0    2       0                 3   \n",
       "3                   6        37.0    0       0                 1   \n",
       "4                   6        37.0    4       0                 3   \n",
       "...               ...         ...  ...     ...               ...   \n",
       "1046072             4      1169.0    4       0                 6   \n",
       "1046073             4      1169.0    0       0                 2   \n",
       "1046074             4      1169.0    3       1                13   \n",
       "1046075             4      1169.0    2       0                 2   \n",
       "1046076             4      1169.0    3       1                 2   \n",
       "\n",
       "         Admission_type  ccs_diagnosis_code  Code_illness  Payment_typology_1  \\\n",
       "0                     0                 122             1                   0   \n",
       "1                     5                 197             3                   5   \n",
       "2                     5                 122             1                   0   \n",
       "3                     5                 122             1                   7   \n",
       "4                     0                 122             2                   5   \n",
       "...                 ...                 ...           ...                 ...   \n",
       "1046072               1                 106             2                   5   \n",
       "1046073               1                   8             2                   4   \n",
       "1046074               1                 151             4                   4   \n",
       "1046075               1                 143             1                   4   \n",
       "1046076               1                 106             1                   7   \n",
       "\n",
       "         emergency  ratio_of_total_costs_to_total_charges  Result  \n",
       "0                1                               1.012798       1  \n",
       "1                1                               1.079365       1  \n",
       "2                1                               1.059379       1  \n",
       "3                1                               1.484167       0  \n",
       "4                1                               0.986161       1  \n",
       "...            ...                                    ...     ...  \n",
       "1046072          1                               0.199522       1  \n",
       "1046073          0                               0.288382       1  \n",
       "1046074          1                               0.236516       0  \n",
       "1046075          1                               0.245846       1  \n",
       "1046076          1                               0.200331       1  \n",
       "\n",
       "[1046077 rows x 12 columns]"
      ]
     },
     "execution_count": 52,
     "metadata": {},
     "output_type": "execute_result"
    }
   ],
   "source": [
    "df5 "
   ]
  },
  {
   "cell_type": "markdown",
   "metadata": {},
   "source": [
    "## df5 is Cleaned and columns are converted, now using it for eda\n",
    "### Exploratory Data Analysis refers to the critical process of performing initial investigations on data so as to discover patterns,to spot anomalies,to test hypothesis and to check assumptions with the help of summary statistics and graphical representations."
   ]
  },
  {
   "cell_type": "code",
   "execution_count": 53,
   "metadata": {},
   "outputs": [
    {
     "name": "stdout",
     "output_type": "stream",
     "text": [
      "<class 'pandas.core.frame.DataFrame'>\n",
      "RangeIndex: 1046077 entries, 0 to 1046076\n",
      "Data columns (total 12 columns):\n",
      " #   Column                                 Non-Null Count    Dtype  \n",
      "---  ------                                 --------------    -----  \n",
      " 0   Area_Service                           1046077 non-null  int8   \n",
      " 1   hospitalid                             1046077 non-null  float64\n",
      " 2   Age                                    1046077 non-null  int8   \n",
      " 3   Gender                                 1046077 non-null  int8   \n",
      " 4   Days_spend_hsptl                       1046077 non-null  int32  \n",
      " 5   Admission_type                         1046077 non-null  int8   \n",
      " 6   ccs_diagnosis_code                     1046077 non-null  int64  \n",
      " 7   Code_illness                           1046077 non-null  int64  \n",
      " 8   Payment_typology_1                     1046077 non-null  int8   \n",
      " 9   emergency                              1046077 non-null  int8   \n",
      " 10  ratio_of_total_costs_to_total_charges  1046077 non-null  float64\n",
      " 11  Result                                 1046077 non-null  int8   \n",
      "dtypes: float64(2), int32(1), int64(2), int8(7)\n",
      "memory usage: 42.9 MB\n"
     ]
    }
   ],
   "source": [
    "#columns and their corresponding data types,along with finding whether they contain null values or not\n",
    "df5.info()"
   ]
  },
  {
   "cell_type": "code",
   "execution_count": 54,
   "metadata": {},
   "outputs": [
    {
     "data": {
      "text/html": [
       "<div>\n",
       "<style scoped>\n",
       "    .dataframe tbody tr th:only-of-type {\n",
       "        vertical-align: middle;\n",
       "    }\n",
       "\n",
       "    .dataframe tbody tr th {\n",
       "        vertical-align: top;\n",
       "    }\n",
       "\n",
       "    .dataframe thead th {\n",
       "        text-align: right;\n",
       "    }\n",
       "</style>\n",
       "<table border=\"1\" class=\"dataframe\">\n",
       "  <thead>\n",
       "    <tr style=\"text-align: right;\">\n",
       "      <th></th>\n",
       "      <th>Area_Service</th>\n",
       "      <th>hospitalid</th>\n",
       "      <th>Age</th>\n",
       "      <th>Gender</th>\n",
       "      <th>Days_spend_hsptl</th>\n",
       "      <th>Admission_type</th>\n",
       "      <th>ccs_diagnosis_code</th>\n",
       "      <th>Code_illness</th>\n",
       "      <th>Payment_typology_1</th>\n",
       "      <th>emergency</th>\n",
       "      <th>ratio_of_total_costs_to_total_charges</th>\n",
       "      <th>Result</th>\n",
       "    </tr>\n",
       "  </thead>\n",
       "  <tbody>\n",
       "    <tr>\n",
       "      <th>count</th>\n",
       "      <td>1.046077e+06</td>\n",
       "      <td>1.046077e+06</td>\n",
       "      <td>1.046077e+06</td>\n",
       "      <td>1.046077e+06</td>\n",
       "      <td>1.046077e+06</td>\n",
       "      <td>1.046077e+06</td>\n",
       "      <td>1.046077e+06</td>\n",
       "      <td>1.046077e+06</td>\n",
       "      <td>1.046077e+06</td>\n",
       "      <td>1.046077e+06</td>\n",
       "      <td>1.046077e+06</td>\n",
       "      <td>1.046077e+06</td>\n",
       "    </tr>\n",
       "    <tr>\n",
       "      <th>mean</th>\n",
       "      <td>2.683649e+00</td>\n",
       "      <td>6.529453e+02</td>\n",
       "      <td>2.467389e+00</td>\n",
       "      <td>4.345474e-01</td>\n",
       "      <td>5.417040e+00</td>\n",
       "      <td>1.290779e+00</td>\n",
       "      <td>1.987849e+02</td>\n",
       "      <td>2.052845e+00</td>\n",
       "      <td>4.318307e+00</td>\n",
       "      <td>5.625073e-01</td>\n",
       "      <td>4.563692e-01</td>\n",
       "      <td>7.500194e-01</td>\n",
       "    </tr>\n",
       "    <tr>\n",
       "      <th>std</th>\n",
       "      <td>1.979379e+00</td>\n",
       "      <td>6.711664e+02</td>\n",
       "      <td>1.372254e+00</td>\n",
       "      <td>4.957497e-01</td>\n",
       "      <td>7.926823e+00</td>\n",
       "      <td>1.390243e+00</td>\n",
       "      <td>1.653710e+02</td>\n",
       "      <td>9.146874e-01</td>\n",
       "      <td>2.095397e+00</td>\n",
       "      <td>4.960777e-01</td>\n",
       "      <td>8.009643e-01</td>\n",
       "      <td>4.330017e-01</td>\n",
       "    </tr>\n",
       "    <tr>\n",
       "      <th>min</th>\n",
       "      <td>0.000000e+00</td>\n",
       "      <td>1.000000e+00</td>\n",
       "      <td>0.000000e+00</td>\n",
       "      <td>0.000000e+00</td>\n",
       "      <td>1.000000e+00</td>\n",
       "      <td>0.000000e+00</td>\n",
       "      <td>1.000000e+00</td>\n",
       "      <td>1.000000e+00</td>\n",
       "      <td>0.000000e+00</td>\n",
       "      <td>0.000000e+00</td>\n",
       "      <td>3.312909e-02</td>\n",
       "      <td>0.000000e+00</td>\n",
       "    </tr>\n",
       "    <tr>\n",
       "      <th>25%</th>\n",
       "      <td>1.000000e+00</td>\n",
       "      <td>2.130000e+02</td>\n",
       "      <td>2.000000e+00</td>\n",
       "      <td>0.000000e+00</td>\n",
       "      <td>2.000000e+00</td>\n",
       "      <td>1.000000e+00</td>\n",
       "      <td>1.080000e+02</td>\n",
       "      <td>1.000000e+00</td>\n",
       "      <td>4.000000e+00</td>\n",
       "      <td>0.000000e+00</td>\n",
       "      <td>3.135364e-01</td>\n",
       "      <td>1.000000e+00</td>\n",
       "    </tr>\n",
       "    <tr>\n",
       "      <th>50%</th>\n",
       "      <td>3.000000e+00</td>\n",
       "      <td>6.300000e+02</td>\n",
       "      <td>3.000000e+00</td>\n",
       "      <td>0.000000e+00</td>\n",
       "      <td>3.000000e+00</td>\n",
       "      <td>1.000000e+00</td>\n",
       "      <td>1.590000e+02</td>\n",
       "      <td>2.000000e+00</td>\n",
       "      <td>5.000000e+00</td>\n",
       "      <td>1.000000e+00</td>\n",
       "      <td>4.091162e-01</td>\n",
       "      <td>1.000000e+00</td>\n",
       "    </tr>\n",
       "    <tr>\n",
       "      <th>75%</th>\n",
       "      <td>4.000000e+00</td>\n",
       "      <td>9.770000e+02</td>\n",
       "      <td>4.000000e+00</td>\n",
       "      <td>1.000000e+00</td>\n",
       "      <td>6.000000e+00</td>\n",
       "      <td>1.000000e+00</td>\n",
       "      <td>2.180000e+02</td>\n",
       "      <td>3.000000e+00</td>\n",
       "      <td>5.000000e+00</td>\n",
       "      <td>1.000000e+00</td>\n",
       "      <td>5.191341e-01</td>\n",
       "      <td>1.000000e+00</td>\n",
       "    </tr>\n",
       "    <tr>\n",
       "      <th>max</th>\n",
       "      <td>6.000000e+00</td>\n",
       "      <td>9.250000e+03</td>\n",
       "      <td>4.000000e+00</td>\n",
       "      <td>2.000000e+00</td>\n",
       "      <td>1.200000e+02</td>\n",
       "      <td>5.000000e+00</td>\n",
       "      <td>6.700000e+02</td>\n",
       "      <td>4.000000e+00</td>\n",
       "      <td>9.000000e+00</td>\n",
       "      <td>1.000000e+00</td>\n",
       "      <td>1.575596e+02</td>\n",
       "      <td>1.000000e+00</td>\n",
       "    </tr>\n",
       "  </tbody>\n",
       "</table>\n",
       "</div>"
      ],
      "text/plain": [
       "       Area_Service    hospitalid           Age        Gender  \\\n",
       "count  1.046077e+06  1.046077e+06  1.046077e+06  1.046077e+06   \n",
       "mean   2.683649e+00  6.529453e+02  2.467389e+00  4.345474e-01   \n",
       "std    1.979379e+00  6.711664e+02  1.372254e+00  4.957497e-01   \n",
       "min    0.000000e+00  1.000000e+00  0.000000e+00  0.000000e+00   \n",
       "25%    1.000000e+00  2.130000e+02  2.000000e+00  0.000000e+00   \n",
       "50%    3.000000e+00  6.300000e+02  3.000000e+00  0.000000e+00   \n",
       "75%    4.000000e+00  9.770000e+02  4.000000e+00  1.000000e+00   \n",
       "max    6.000000e+00  9.250000e+03  4.000000e+00  2.000000e+00   \n",
       "\n",
       "       Days_spend_hsptl  Admission_type  ccs_diagnosis_code  Code_illness  \\\n",
       "count      1.046077e+06    1.046077e+06        1.046077e+06  1.046077e+06   \n",
       "mean       5.417040e+00    1.290779e+00        1.987849e+02  2.052845e+00   \n",
       "std        7.926823e+00    1.390243e+00        1.653710e+02  9.146874e-01   \n",
       "min        1.000000e+00    0.000000e+00        1.000000e+00  1.000000e+00   \n",
       "25%        2.000000e+00    1.000000e+00        1.080000e+02  1.000000e+00   \n",
       "50%        3.000000e+00    1.000000e+00        1.590000e+02  2.000000e+00   \n",
       "75%        6.000000e+00    1.000000e+00        2.180000e+02  3.000000e+00   \n",
       "max        1.200000e+02    5.000000e+00        6.700000e+02  4.000000e+00   \n",
       "\n",
       "       Payment_typology_1     emergency  \\\n",
       "count        1.046077e+06  1.046077e+06   \n",
       "mean         4.318307e+00  5.625073e-01   \n",
       "std          2.095397e+00  4.960777e-01   \n",
       "min          0.000000e+00  0.000000e+00   \n",
       "25%          4.000000e+00  0.000000e+00   \n",
       "50%          5.000000e+00  1.000000e+00   \n",
       "75%          5.000000e+00  1.000000e+00   \n",
       "max          9.000000e+00  1.000000e+00   \n",
       "\n",
       "       ratio_of_total_costs_to_total_charges        Result  \n",
       "count                           1.046077e+06  1.046077e+06  \n",
       "mean                            4.563692e-01  7.500194e-01  \n",
       "std                             8.009643e-01  4.330017e-01  \n",
       "min                             3.312909e-02  0.000000e+00  \n",
       "25%                             3.135364e-01  1.000000e+00  \n",
       "50%                             4.091162e-01  1.000000e+00  \n",
       "75%                             5.191341e-01  1.000000e+00  \n",
       "max                             1.575596e+02  1.000000e+00  "
      ]
     },
     "execution_count": 54,
     "metadata": {},
     "output_type": "execute_result"
    }
   ],
   "source": [
    "#various summary statistics.This function returns the count, mean, standard deviation, minimum and maximum values \n",
    "#and the quantiles of the data\n",
    "df5.describe()"
   ]
  },
  {
   "cell_type": "code",
   "execution_count": 55,
   "metadata": {},
   "outputs": [
    {
     "data": {
      "text/plain": [
       "1    784578\n",
       "0    261499\n",
       "Name: Result, dtype: int64"
      ]
     },
     "execution_count": 55,
     "metadata": {},
     "output_type": "execute_result"
    }
   ],
   "source": [
    "df5.Result.value_counts()"
   ]
  },
  {
   "cell_type": "code",
   "execution_count": 56,
   "metadata": {},
   "outputs": [
    {
     "data": {
      "text/plain": [
       "Hudson Valley      261074\n",
       "Western NY         180459\n",
       "Central NY         171251\n",
       "Capital/Adirond    170671\n",
       "Finger Lakes       156186\n",
       "New York City       74629\n",
       "Southern Tier       31849\n",
       "Name: Area_Service, dtype: int64"
      ]
     },
     "execution_count": 56,
     "metadata": {},
     "output_type": "execute_result"
    }
   ],
   "source": [
    "df.Area_Service.value_counts()"
   ]
  },
  {
   "cell_type": "code",
   "execution_count": 57,
   "metadata": {},
   "outputs": [],
   "source": [
    "#df5 = df5[0:7000]"
   ]
  },
  {
   "cell_type": "code",
   "execution_count": 58,
   "metadata": {
    "scrolled": true
   },
   "outputs": [
    {
     "data": {
      "text/html": [
       "<div>\n",
       "<style scoped>\n",
       "    .dataframe tbody tr th:only-of-type {\n",
       "        vertical-align: middle;\n",
       "    }\n",
       "\n",
       "    .dataframe tbody tr th {\n",
       "        vertical-align: top;\n",
       "    }\n",
       "\n",
       "    .dataframe thead th {\n",
       "        text-align: right;\n",
       "    }\n",
       "</style>\n",
       "<table border=\"1\" class=\"dataframe\">\n",
       "  <thead>\n",
       "    <tr style=\"text-align: right;\">\n",
       "      <th></th>\n",
       "      <th>Area_Service</th>\n",
       "      <th>hospitalid</th>\n",
       "      <th>Age</th>\n",
       "      <th>Gender</th>\n",
       "      <th>Days_spend_hsptl</th>\n",
       "      <th>Admission_type</th>\n",
       "      <th>ccs_diagnosis_code</th>\n",
       "      <th>Code_illness</th>\n",
       "      <th>Payment_typology_1</th>\n",
       "      <th>emergency</th>\n",
       "      <th>ratio_of_total_costs_to_total_charges</th>\n",
       "      <th>Result</th>\n",
       "    </tr>\n",
       "  </thead>\n",
       "  <tbody>\n",
       "    <tr>\n",
       "      <th>Area_Service</th>\n",
       "      <td>1.000000</td>\n",
       "      <td>0.032892</td>\n",
       "      <td>-0.006143</td>\n",
       "      <td>-0.003268</td>\n",
       "      <td>0.014292</td>\n",
       "      <td>-0.077596</td>\n",
       "      <td>0.003298</td>\n",
       "      <td>0.004416</td>\n",
       "      <td>0.020896</td>\n",
       "      <td>0.041095</td>\n",
       "      <td>0.019284</td>\n",
       "      <td>0.000264</td>\n",
       "    </tr>\n",
       "    <tr>\n",
       "      <th>hospitalid</th>\n",
       "      <td>0.032892</td>\n",
       "      <td>1.000000</td>\n",
       "      <td>-0.045089</td>\n",
       "      <td>-0.013499</td>\n",
       "      <td>0.017949</td>\n",
       "      <td>-0.039141</td>\n",
       "      <td>0.052240</td>\n",
       "      <td>-0.048172</td>\n",
       "      <td>0.034495</td>\n",
       "      <td>-0.030569</td>\n",
       "      <td>0.005124</td>\n",
       "      <td>-0.001224</td>\n",
       "    </tr>\n",
       "    <tr>\n",
       "      <th>Age</th>\n",
       "      <td>-0.006143</td>\n",
       "      <td>-0.045089</td>\n",
       "      <td>1.000000</td>\n",
       "      <td>0.011102</td>\n",
       "      <td>0.094139</td>\n",
       "      <td>-0.112065</td>\n",
       "      <td>-0.222384</td>\n",
       "      <td>0.417863</td>\n",
       "      <td>0.186064</td>\n",
       "      <td>0.347310</td>\n",
       "      <td>-0.049829</td>\n",
       "      <td>-0.000110</td>\n",
       "    </tr>\n",
       "    <tr>\n",
       "      <th>Gender</th>\n",
       "      <td>-0.003268</td>\n",
       "      <td>-0.013499</td>\n",
       "      <td>0.011102</td>\n",
       "      <td>1.000000</td>\n",
       "      <td>0.045514</td>\n",
       "      <td>0.006918</td>\n",
       "      <td>0.063023</td>\n",
       "      <td>0.067160</td>\n",
       "      <td>0.022948</td>\n",
       "      <td>0.077905</td>\n",
       "      <td>-0.023221</td>\n",
       "      <td>-0.000237</td>\n",
       "    </tr>\n",
       "    <tr>\n",
       "      <th>Days_spend_hsptl</th>\n",
       "      <td>0.014292</td>\n",
       "      <td>0.017949</td>\n",
       "      <td>0.094139</td>\n",
       "      <td>0.045514</td>\n",
       "      <td>1.000000</td>\n",
       "      <td>0.015137</td>\n",
       "      <td>0.130712</td>\n",
       "      <td>0.326077</td>\n",
       "      <td>0.038818</td>\n",
       "      <td>0.028158</td>\n",
       "      <td>0.001267</td>\n",
       "      <td>-0.001147</td>\n",
       "    </tr>\n",
       "    <tr>\n",
       "      <th>Admission_type</th>\n",
       "      <td>-0.077596</td>\n",
       "      <td>-0.039141</td>\n",
       "      <td>-0.112065</td>\n",
       "      <td>0.006918</td>\n",
       "      <td>0.015137</td>\n",
       "      <td>1.000000</td>\n",
       "      <td>0.012770</td>\n",
       "      <td>0.016837</td>\n",
       "      <td>-0.024008</td>\n",
       "      <td>-0.078265</td>\n",
       "      <td>0.022364</td>\n",
       "      <td>-0.000886</td>\n",
       "    </tr>\n",
       "    <tr>\n",
       "      <th>ccs_diagnosis_code</th>\n",
       "      <td>0.003298</td>\n",
       "      <td>0.052240</td>\n",
       "      <td>-0.222384</td>\n",
       "      <td>0.063023</td>\n",
       "      <td>0.130712</td>\n",
       "      <td>0.012770</td>\n",
       "      <td>1.000000</td>\n",
       "      <td>-0.181957</td>\n",
       "      <td>0.009559</td>\n",
       "      <td>-0.100728</td>\n",
       "      <td>0.030726</td>\n",
       "      <td>0.000675</td>\n",
       "    </tr>\n",
       "    <tr>\n",
       "      <th>Code_illness</th>\n",
       "      <td>0.004416</td>\n",
       "      <td>-0.048172</td>\n",
       "      <td>0.417863</td>\n",
       "      <td>0.067160</td>\n",
       "      <td>0.326077</td>\n",
       "      <td>0.016837</td>\n",
       "      <td>-0.181957</td>\n",
       "      <td>1.000000</td>\n",
       "      <td>0.108025</td>\n",
       "      <td>0.310398</td>\n",
       "      <td>-0.034124</td>\n",
       "      <td>0.000755</td>\n",
       "    </tr>\n",
       "    <tr>\n",
       "      <th>Payment_typology_1</th>\n",
       "      <td>0.020896</td>\n",
       "      <td>0.034495</td>\n",
       "      <td>0.186064</td>\n",
       "      <td>0.022948</td>\n",
       "      <td>0.038818</td>\n",
       "      <td>-0.024008</td>\n",
       "      <td>0.009559</td>\n",
       "      <td>0.108025</td>\n",
       "      <td>1.000000</td>\n",
       "      <td>0.114849</td>\n",
       "      <td>-0.013706</td>\n",
       "      <td>0.000737</td>\n",
       "    </tr>\n",
       "    <tr>\n",
       "      <th>emergency</th>\n",
       "      <td>0.041095</td>\n",
       "      <td>-0.030569</td>\n",
       "      <td>0.347310</td>\n",
       "      <td>0.077905</td>\n",
       "      <td>0.028158</td>\n",
       "      <td>-0.078265</td>\n",
       "      <td>-0.100728</td>\n",
       "      <td>0.310398</td>\n",
       "      <td>0.114849</td>\n",
       "      <td>1.000000</td>\n",
       "      <td>-0.049392</td>\n",
       "      <td>0.001496</td>\n",
       "    </tr>\n",
       "    <tr>\n",
       "      <th>ratio_of_total_costs_to_total_charges</th>\n",
       "      <td>0.019284</td>\n",
       "      <td>0.005124</td>\n",
       "      <td>-0.049829</td>\n",
       "      <td>-0.023221</td>\n",
       "      <td>0.001267</td>\n",
       "      <td>0.022364</td>\n",
       "      <td>0.030726</td>\n",
       "      <td>-0.034124</td>\n",
       "      <td>-0.013706</td>\n",
       "      <td>-0.049392</td>\n",
       "      <td>1.000000</td>\n",
       "      <td>0.000562</td>\n",
       "    </tr>\n",
       "    <tr>\n",
       "      <th>Result</th>\n",
       "      <td>0.000264</td>\n",
       "      <td>-0.001224</td>\n",
       "      <td>-0.000110</td>\n",
       "      <td>-0.000237</td>\n",
       "      <td>-0.001147</td>\n",
       "      <td>-0.000886</td>\n",
       "      <td>0.000675</td>\n",
       "      <td>0.000755</td>\n",
       "      <td>0.000737</td>\n",
       "      <td>0.001496</td>\n",
       "      <td>0.000562</td>\n",
       "      <td>1.000000</td>\n",
       "    </tr>\n",
       "  </tbody>\n",
       "</table>\n",
       "</div>"
      ],
      "text/plain": [
       "                                       Area_Service  hospitalid       Age  \\\n",
       "Area_Service                               1.000000    0.032892 -0.006143   \n",
       "hospitalid                                 0.032892    1.000000 -0.045089   \n",
       "Age                                       -0.006143   -0.045089  1.000000   \n",
       "Gender                                    -0.003268   -0.013499  0.011102   \n",
       "Days_spend_hsptl                           0.014292    0.017949  0.094139   \n",
       "Admission_type                            -0.077596   -0.039141 -0.112065   \n",
       "ccs_diagnosis_code                         0.003298    0.052240 -0.222384   \n",
       "Code_illness                               0.004416   -0.048172  0.417863   \n",
       "Payment_typology_1                         0.020896    0.034495  0.186064   \n",
       "emergency                                  0.041095   -0.030569  0.347310   \n",
       "ratio_of_total_costs_to_total_charges      0.019284    0.005124 -0.049829   \n",
       "Result                                     0.000264   -0.001224 -0.000110   \n",
       "\n",
       "                                         Gender  Days_spend_hsptl  \\\n",
       "Area_Service                          -0.003268          0.014292   \n",
       "hospitalid                            -0.013499          0.017949   \n",
       "Age                                    0.011102          0.094139   \n",
       "Gender                                 1.000000          0.045514   \n",
       "Days_spend_hsptl                       0.045514          1.000000   \n",
       "Admission_type                         0.006918          0.015137   \n",
       "ccs_diagnosis_code                     0.063023          0.130712   \n",
       "Code_illness                           0.067160          0.326077   \n",
       "Payment_typology_1                     0.022948          0.038818   \n",
       "emergency                              0.077905          0.028158   \n",
       "ratio_of_total_costs_to_total_charges -0.023221          0.001267   \n",
       "Result                                -0.000237         -0.001147   \n",
       "\n",
       "                                       Admission_type  ccs_diagnosis_code  \\\n",
       "Area_Service                                -0.077596            0.003298   \n",
       "hospitalid                                  -0.039141            0.052240   \n",
       "Age                                         -0.112065           -0.222384   \n",
       "Gender                                       0.006918            0.063023   \n",
       "Days_spend_hsptl                             0.015137            0.130712   \n",
       "Admission_type                               1.000000            0.012770   \n",
       "ccs_diagnosis_code                           0.012770            1.000000   \n",
       "Code_illness                                 0.016837           -0.181957   \n",
       "Payment_typology_1                          -0.024008            0.009559   \n",
       "emergency                                   -0.078265           -0.100728   \n",
       "ratio_of_total_costs_to_total_charges        0.022364            0.030726   \n",
       "Result                                      -0.000886            0.000675   \n",
       "\n",
       "                                       Code_illness  Payment_typology_1  \\\n",
       "Area_Service                               0.004416            0.020896   \n",
       "hospitalid                                -0.048172            0.034495   \n",
       "Age                                        0.417863            0.186064   \n",
       "Gender                                     0.067160            0.022948   \n",
       "Days_spend_hsptl                           0.326077            0.038818   \n",
       "Admission_type                             0.016837           -0.024008   \n",
       "ccs_diagnosis_code                        -0.181957            0.009559   \n",
       "Code_illness                               1.000000            0.108025   \n",
       "Payment_typology_1                         0.108025            1.000000   \n",
       "emergency                                  0.310398            0.114849   \n",
       "ratio_of_total_costs_to_total_charges     -0.034124           -0.013706   \n",
       "Result                                     0.000755            0.000737   \n",
       "\n",
       "                                       emergency  \\\n",
       "Area_Service                            0.041095   \n",
       "hospitalid                             -0.030569   \n",
       "Age                                     0.347310   \n",
       "Gender                                  0.077905   \n",
       "Days_spend_hsptl                        0.028158   \n",
       "Admission_type                         -0.078265   \n",
       "ccs_diagnosis_code                     -0.100728   \n",
       "Code_illness                            0.310398   \n",
       "Payment_typology_1                      0.114849   \n",
       "emergency                               1.000000   \n",
       "ratio_of_total_costs_to_total_charges  -0.049392   \n",
       "Result                                  0.001496   \n",
       "\n",
       "                                       ratio_of_total_costs_to_total_charges  \\\n",
       "Area_Service                                                        0.019284   \n",
       "hospitalid                                                          0.005124   \n",
       "Age                                                                -0.049829   \n",
       "Gender                                                             -0.023221   \n",
       "Days_spend_hsptl                                                    0.001267   \n",
       "Admission_type                                                      0.022364   \n",
       "ccs_diagnosis_code                                                  0.030726   \n",
       "Code_illness                                                       -0.034124   \n",
       "Payment_typology_1                                                 -0.013706   \n",
       "emergency                                                          -0.049392   \n",
       "ratio_of_total_costs_to_total_charges                               1.000000   \n",
       "Result                                                              0.000562   \n",
       "\n",
       "                                         Result  \n",
       "Area_Service                           0.000264  \n",
       "hospitalid                            -0.001224  \n",
       "Age                                   -0.000110  \n",
       "Gender                                -0.000237  \n",
       "Days_spend_hsptl                      -0.001147  \n",
       "Admission_type                        -0.000886  \n",
       "ccs_diagnosis_code                     0.000675  \n",
       "Code_illness                           0.000755  \n",
       "Payment_typology_1                     0.000737  \n",
       "emergency                              0.001496  \n",
       "ratio_of_total_costs_to_total_charges  0.000562  \n",
       "Result                                 1.000000  "
      ]
     },
     "execution_count": 58,
     "metadata": {},
     "output_type": "execute_result"
    }
   ],
   "source": [
    "#correlation matrix\n",
    "df5.corr(method=\"pearson\")"
   ]
  },
  {
   "cell_type": "code",
   "execution_count": 59,
   "metadata": {},
   "outputs": [
    {
     "data": {
      "text/html": [
       "<div>\n",
       "<style scoped>\n",
       "    .dataframe tbody tr th:only-of-type {\n",
       "        vertical-align: middle;\n",
       "    }\n",
       "\n",
       "    .dataframe tbody tr th {\n",
       "        vertical-align: top;\n",
       "    }\n",
       "\n",
       "    .dataframe thead th {\n",
       "        text-align: right;\n",
       "    }\n",
       "</style>\n",
       "<table border=\"1\" class=\"dataframe\">\n",
       "  <thead>\n",
       "    <tr style=\"text-align: right;\">\n",
       "      <th></th>\n",
       "      <th>Area_Service</th>\n",
       "      <th>hospitalid</th>\n",
       "      <th>Age</th>\n",
       "      <th>Gender</th>\n",
       "      <th>Days_spend_hsptl</th>\n",
       "      <th>Admission_type</th>\n",
       "      <th>ccs_diagnosis_code</th>\n",
       "      <th>Code_illness</th>\n",
       "      <th>Payment_typology_1</th>\n",
       "      <th>emergency</th>\n",
       "      <th>ratio_of_total_costs_to_total_charges</th>\n",
       "      <th>Result</th>\n",
       "    </tr>\n",
       "  </thead>\n",
       "  <tbody>\n",
       "    <tr>\n",
       "      <th>Area_Service</th>\n",
       "      <td>1.000000</td>\n",
       "      <td>0.108028</td>\n",
       "      <td>-0.009667</td>\n",
       "      <td>-0.000310</td>\n",
       "      <td>0.006892</td>\n",
       "      <td>-0.052126</td>\n",
       "      <td>-0.001814</td>\n",
       "      <td>-0.001943</td>\n",
       "      <td>0.005554</td>\n",
       "      <td>0.041421</td>\n",
       "      <td>0.038904</td>\n",
       "      <td>0.000229</td>\n",
       "    </tr>\n",
       "    <tr>\n",
       "      <th>hospitalid</th>\n",
       "      <td>0.108028</td>\n",
       "      <td>1.000000</td>\n",
       "      <td>-0.017021</td>\n",
       "      <td>0.003162</td>\n",
       "      <td>0.028077</td>\n",
       "      <td>-0.007596</td>\n",
       "      <td>0.025563</td>\n",
       "      <td>-0.023957</td>\n",
       "      <td>0.031966</td>\n",
       "      <td>0.009130</td>\n",
       "      <td>-0.065593</td>\n",
       "      <td>-0.001550</td>\n",
       "    </tr>\n",
       "    <tr>\n",
       "      <th>Age</th>\n",
       "      <td>-0.009667</td>\n",
       "      <td>-0.017021</td>\n",
       "      <td>1.000000</td>\n",
       "      <td>0.013057</td>\n",
       "      <td>0.182953</td>\n",
       "      <td>-0.116191</td>\n",
       "      <td>-0.244300</td>\n",
       "      <td>0.367577</td>\n",
       "      <td>0.235808</td>\n",
       "      <td>0.305402</td>\n",
       "      <td>-0.086804</td>\n",
       "      <td>-0.000288</td>\n",
       "    </tr>\n",
       "    <tr>\n",
       "      <th>Gender</th>\n",
       "      <td>-0.000310</td>\n",
       "      <td>0.003162</td>\n",
       "      <td>0.013057</td>\n",
       "      <td>1.000000</td>\n",
       "      <td>0.028939</td>\n",
       "      <td>0.063049</td>\n",
       "      <td>0.010304</td>\n",
       "      <td>0.060850</td>\n",
       "      <td>0.022910</td>\n",
       "      <td>0.077944</td>\n",
       "      <td>-0.043532</td>\n",
       "      <td>-0.000244</td>\n",
       "    </tr>\n",
       "    <tr>\n",
       "      <th>Days_spend_hsptl</th>\n",
       "      <td>0.006892</td>\n",
       "      <td>0.028077</td>\n",
       "      <td>0.182953</td>\n",
       "      <td>0.028939</td>\n",
       "      <td>1.000000</td>\n",
       "      <td>-0.003089</td>\n",
       "      <td>0.009336</td>\n",
       "      <td>0.356709</td>\n",
       "      <td>0.061021</td>\n",
       "      <td>0.090170</td>\n",
       "      <td>0.045319</td>\n",
       "      <td>-0.000376</td>\n",
       "    </tr>\n",
       "    <tr>\n",
       "      <th>Admission_type</th>\n",
       "      <td>-0.052126</td>\n",
       "      <td>-0.007596</td>\n",
       "      <td>-0.116191</td>\n",
       "      <td>0.063049</td>\n",
       "      <td>-0.003089</td>\n",
       "      <td>1.000000</td>\n",
       "      <td>0.024948</td>\n",
       "      <td>0.026883</td>\n",
       "      <td>-0.024791</td>\n",
       "      <td>0.142163</td>\n",
       "      <td>-0.004500</td>\n",
       "      <td>-0.000004</td>\n",
       "    </tr>\n",
       "    <tr>\n",
       "      <th>ccs_diagnosis_code</th>\n",
       "      <td>-0.001814</td>\n",
       "      <td>0.025563</td>\n",
       "      <td>-0.244300</td>\n",
       "      <td>0.010304</td>\n",
       "      <td>0.009336</td>\n",
       "      <td>0.024948</td>\n",
       "      <td>1.000000</td>\n",
       "      <td>-0.192938</td>\n",
       "      <td>-0.052330</td>\n",
       "      <td>-0.190831</td>\n",
       "      <td>0.093188</td>\n",
       "      <td>0.000491</td>\n",
       "    </tr>\n",
       "    <tr>\n",
       "      <th>Code_illness</th>\n",
       "      <td>-0.001943</td>\n",
       "      <td>-0.023957</td>\n",
       "      <td>0.367577</td>\n",
       "      <td>0.060850</td>\n",
       "      <td>0.356709</td>\n",
       "      <td>0.026883</td>\n",
       "      <td>-0.192938</td>\n",
       "      <td>1.000000</td>\n",
       "      <td>0.118420</td>\n",
       "      <td>0.296120</td>\n",
       "      <td>-0.060680</td>\n",
       "      <td>0.000727</td>\n",
       "    </tr>\n",
       "    <tr>\n",
       "      <th>Payment_typology_1</th>\n",
       "      <td>0.005554</td>\n",
       "      <td>0.031966</td>\n",
       "      <td>0.235808</td>\n",
       "      <td>0.022910</td>\n",
       "      <td>0.061021</td>\n",
       "      <td>-0.024791</td>\n",
       "      <td>-0.052330</td>\n",
       "      <td>0.118420</td>\n",
       "      <td>1.000000</td>\n",
       "      <td>0.118449</td>\n",
       "      <td>-0.043537</td>\n",
       "      <td>0.000357</td>\n",
       "    </tr>\n",
       "    <tr>\n",
       "      <th>emergency</th>\n",
       "      <td>0.041421</td>\n",
       "      <td>0.009130</td>\n",
       "      <td>0.305402</td>\n",
       "      <td>0.077944</td>\n",
       "      <td>0.090170</td>\n",
       "      <td>0.142163</td>\n",
       "      <td>-0.190831</td>\n",
       "      <td>0.296120</td>\n",
       "      <td>0.118449</td>\n",
       "      <td>1.000000</td>\n",
       "      <td>-0.124687</td>\n",
       "      <td>0.001496</td>\n",
       "    </tr>\n",
       "    <tr>\n",
       "      <th>ratio_of_total_costs_to_total_charges</th>\n",
       "      <td>0.038904</td>\n",
       "      <td>-0.065593</td>\n",
       "      <td>-0.086804</td>\n",
       "      <td>-0.043532</td>\n",
       "      <td>0.045319</td>\n",
       "      <td>-0.004500</td>\n",
       "      <td>0.093188</td>\n",
       "      <td>-0.060680</td>\n",
       "      <td>-0.043537</td>\n",
       "      <td>-0.124687</td>\n",
       "      <td>1.000000</td>\n",
       "      <td>0.000467</td>\n",
       "    </tr>\n",
       "    <tr>\n",
       "      <th>Result</th>\n",
       "      <td>0.000229</td>\n",
       "      <td>-0.001550</td>\n",
       "      <td>-0.000288</td>\n",
       "      <td>-0.000244</td>\n",
       "      <td>-0.000376</td>\n",
       "      <td>-0.000004</td>\n",
       "      <td>0.000491</td>\n",
       "      <td>0.000727</td>\n",
       "      <td>0.000357</td>\n",
       "      <td>0.001496</td>\n",
       "      <td>0.000467</td>\n",
       "      <td>1.000000</td>\n",
       "    </tr>\n",
       "  </tbody>\n",
       "</table>\n",
       "</div>"
      ],
      "text/plain": [
       "                                       Area_Service  hospitalid       Age  \\\n",
       "Area_Service                               1.000000    0.108028 -0.009667   \n",
       "hospitalid                                 0.108028    1.000000 -0.017021   \n",
       "Age                                       -0.009667   -0.017021  1.000000   \n",
       "Gender                                    -0.000310    0.003162  0.013057   \n",
       "Days_spend_hsptl                           0.006892    0.028077  0.182953   \n",
       "Admission_type                            -0.052126   -0.007596 -0.116191   \n",
       "ccs_diagnosis_code                        -0.001814    0.025563 -0.244300   \n",
       "Code_illness                              -0.001943   -0.023957  0.367577   \n",
       "Payment_typology_1                         0.005554    0.031966  0.235808   \n",
       "emergency                                  0.041421    0.009130  0.305402   \n",
       "ratio_of_total_costs_to_total_charges      0.038904   -0.065593 -0.086804   \n",
       "Result                                     0.000229   -0.001550 -0.000288   \n",
       "\n",
       "                                         Gender  Days_spend_hsptl  \\\n",
       "Area_Service                          -0.000310          0.006892   \n",
       "hospitalid                             0.003162          0.028077   \n",
       "Age                                    0.013057          0.182953   \n",
       "Gender                                 1.000000          0.028939   \n",
       "Days_spend_hsptl                       0.028939          1.000000   \n",
       "Admission_type                         0.063049         -0.003089   \n",
       "ccs_diagnosis_code                     0.010304          0.009336   \n",
       "Code_illness                           0.060850          0.356709   \n",
       "Payment_typology_1                     0.022910          0.061021   \n",
       "emergency                              0.077944          0.090170   \n",
       "ratio_of_total_costs_to_total_charges -0.043532          0.045319   \n",
       "Result                                -0.000244         -0.000376   \n",
       "\n",
       "                                       Admission_type  ccs_diagnosis_code  \\\n",
       "Area_Service                                -0.052126           -0.001814   \n",
       "hospitalid                                  -0.007596            0.025563   \n",
       "Age                                         -0.116191           -0.244300   \n",
       "Gender                                       0.063049            0.010304   \n",
       "Days_spend_hsptl                            -0.003089            0.009336   \n",
       "Admission_type                               1.000000            0.024948   \n",
       "ccs_diagnosis_code                           0.024948            1.000000   \n",
       "Code_illness                                 0.026883           -0.192938   \n",
       "Payment_typology_1                          -0.024791           -0.052330   \n",
       "emergency                                    0.142163           -0.190831   \n",
       "ratio_of_total_costs_to_total_charges       -0.004500            0.093188   \n",
       "Result                                      -0.000004            0.000491   \n",
       "\n",
       "                                       Code_illness  Payment_typology_1  \\\n",
       "Area_Service                              -0.001943            0.005554   \n",
       "hospitalid                                -0.023957            0.031966   \n",
       "Age                                        0.367577            0.235808   \n",
       "Gender                                     0.060850            0.022910   \n",
       "Days_spend_hsptl                           0.356709            0.061021   \n",
       "Admission_type                             0.026883           -0.024791   \n",
       "ccs_diagnosis_code                        -0.192938           -0.052330   \n",
       "Code_illness                               1.000000            0.118420   \n",
       "Payment_typology_1                         0.118420            1.000000   \n",
       "emergency                                  0.296120            0.118449   \n",
       "ratio_of_total_costs_to_total_charges     -0.060680           -0.043537   \n",
       "Result                                     0.000727            0.000357   \n",
       "\n",
       "                                       emergency  \\\n",
       "Area_Service                            0.041421   \n",
       "hospitalid                              0.009130   \n",
       "Age                                     0.305402   \n",
       "Gender                                  0.077944   \n",
       "Days_spend_hsptl                        0.090170   \n",
       "Admission_type                          0.142163   \n",
       "ccs_diagnosis_code                     -0.190831   \n",
       "Code_illness                            0.296120   \n",
       "Payment_typology_1                      0.118449   \n",
       "emergency                               1.000000   \n",
       "ratio_of_total_costs_to_total_charges  -0.124687   \n",
       "Result                                  0.001496   \n",
       "\n",
       "                                       ratio_of_total_costs_to_total_charges  \\\n",
       "Area_Service                                                        0.038904   \n",
       "hospitalid                                                         -0.065593   \n",
       "Age                                                                -0.086804   \n",
       "Gender                                                             -0.043532   \n",
       "Days_spend_hsptl                                                    0.045319   \n",
       "Admission_type                                                     -0.004500   \n",
       "ccs_diagnosis_code                                                  0.093188   \n",
       "Code_illness                                                       -0.060680   \n",
       "Payment_typology_1                                                 -0.043537   \n",
       "emergency                                                          -0.124687   \n",
       "ratio_of_total_costs_to_total_charges                               1.000000   \n",
       "Result                                                              0.000467   \n",
       "\n",
       "                                         Result  \n",
       "Area_Service                           0.000229  \n",
       "hospitalid                            -0.001550  \n",
       "Age                                   -0.000288  \n",
       "Gender                                -0.000244  \n",
       "Days_spend_hsptl                      -0.000376  \n",
       "Admission_type                        -0.000004  \n",
       "ccs_diagnosis_code                     0.000491  \n",
       "Code_illness                           0.000727  \n",
       "Payment_typology_1                     0.000357  \n",
       "emergency                              0.001496  \n",
       "ratio_of_total_costs_to_total_charges  0.000467  \n",
       "Result                                 1.000000  "
      ]
     },
     "execution_count": 59,
     "metadata": {},
     "output_type": "execute_result"
    }
   ],
   "source": [
    "#correlation matrix\n",
    "df5.corr(method=\"kendall\")"
   ]
  },
  {
   "cell_type": "code",
   "execution_count": 60,
   "metadata": {},
   "outputs": [
    {
     "data": {
      "text/html": [
       "<div>\n",
       "<style scoped>\n",
       "    .dataframe tbody tr th:only-of-type {\n",
       "        vertical-align: middle;\n",
       "    }\n",
       "\n",
       "    .dataframe tbody tr th {\n",
       "        vertical-align: top;\n",
       "    }\n",
       "\n",
       "    .dataframe thead th {\n",
       "        text-align: right;\n",
       "    }\n",
       "</style>\n",
       "<table border=\"1\" class=\"dataframe\">\n",
       "  <thead>\n",
       "    <tr style=\"text-align: right;\">\n",
       "      <th></th>\n",
       "      <th>Area_Service</th>\n",
       "      <th>hospitalid</th>\n",
       "      <th>Age</th>\n",
       "      <th>Gender</th>\n",
       "      <th>Days_spend_hsptl</th>\n",
       "      <th>Admission_type</th>\n",
       "      <th>ccs_diagnosis_code</th>\n",
       "      <th>Code_illness</th>\n",
       "      <th>Payment_typology_1</th>\n",
       "      <th>emergency</th>\n",
       "      <th>ratio_of_total_costs_to_total_charges</th>\n",
       "      <th>Result</th>\n",
       "    </tr>\n",
       "  </thead>\n",
       "  <tbody>\n",
       "    <tr>\n",
       "      <th>Area_Service</th>\n",
       "      <td>1.000000</td>\n",
       "      <td>0.096392</td>\n",
       "      <td>-0.012189</td>\n",
       "      <td>-0.000350</td>\n",
       "      <td>0.009061</td>\n",
       "      <td>-0.062501</td>\n",
       "      <td>-0.002659</td>\n",
       "      <td>-0.002380</td>\n",
       "      <td>0.006984</td>\n",
       "      <td>0.046896</td>\n",
       "      <td>0.057679</td>\n",
       "      <td>0.000260</td>\n",
       "    </tr>\n",
       "    <tr>\n",
       "      <th>hospitalid</th>\n",
       "      <td>0.096392</td>\n",
       "      <td>1.000000</td>\n",
       "      <td>-0.023077</td>\n",
       "      <td>0.003844</td>\n",
       "      <td>0.039321</td>\n",
       "      <td>-0.009422</td>\n",
       "      <td>0.037543</td>\n",
       "      <td>-0.031373</td>\n",
       "      <td>0.043575</td>\n",
       "      <td>0.011098</td>\n",
       "      <td>-0.099058</td>\n",
       "      <td>-0.001884</td>\n",
       "    </tr>\n",
       "    <tr>\n",
       "      <th>Age</th>\n",
       "      <td>-0.012189</td>\n",
       "      <td>-0.023077</td>\n",
       "      <td>1.000000</td>\n",
       "      <td>0.014481</td>\n",
       "      <td>0.235768</td>\n",
       "      <td>-0.150360</td>\n",
       "      <td>-0.327216</td>\n",
       "      <td>0.432940</td>\n",
       "      <td>0.301341</td>\n",
       "      <td>0.338735</td>\n",
       "      <td>-0.117919</td>\n",
       "      <td>-0.000319</td>\n",
       "    </tr>\n",
       "    <tr>\n",
       "      <th>Gender</th>\n",
       "      <td>-0.000350</td>\n",
       "      <td>0.003844</td>\n",
       "      <td>0.014481</td>\n",
       "      <td>1.000000</td>\n",
       "      <td>0.033458</td>\n",
       "      <td>0.066905</td>\n",
       "      <td>0.012510</td>\n",
       "      <td>0.065543</td>\n",
       "      <td>0.025197</td>\n",
       "      <td>0.077945</td>\n",
       "      <td>-0.053306</td>\n",
       "      <td>-0.000244</td>\n",
       "    </tr>\n",
       "    <tr>\n",
       "      <th>Days_spend_hsptl</th>\n",
       "      <td>0.009061</td>\n",
       "      <td>0.039321</td>\n",
       "      <td>0.235768</td>\n",
       "      <td>0.033458</td>\n",
       "      <td>1.000000</td>\n",
       "      <td>-0.004726</td>\n",
       "      <td>0.016214</td>\n",
       "      <td>0.433719</td>\n",
       "      <td>0.078205</td>\n",
       "      <td>0.104251</td>\n",
       "      <td>0.064260</td>\n",
       "      <td>-0.000435</td>\n",
       "    </tr>\n",
       "    <tr>\n",
       "      <th>Admission_type</th>\n",
       "      <td>-0.062501</td>\n",
       "      <td>-0.009422</td>\n",
       "      <td>-0.150360</td>\n",
       "      <td>0.066905</td>\n",
       "      <td>-0.004726</td>\n",
       "      <td>1.000000</td>\n",
       "      <td>0.043958</td>\n",
       "      <td>0.027818</td>\n",
       "      <td>-0.026784</td>\n",
       "      <td>0.150861</td>\n",
       "      <td>-0.003332</td>\n",
       "      <td>-0.000004</td>\n",
       "    </tr>\n",
       "    <tr>\n",
       "      <th>ccs_diagnosis_code</th>\n",
       "      <td>-0.002659</td>\n",
       "      <td>0.037543</td>\n",
       "      <td>-0.327216</td>\n",
       "      <td>0.012510</td>\n",
       "      <td>0.016214</td>\n",
       "      <td>0.043958</td>\n",
       "      <td>1.000000</td>\n",
       "      <td>-0.251959</td>\n",
       "      <td>-0.071096</td>\n",
       "      <td>-0.231615</td>\n",
       "      <td>0.138224</td>\n",
       "      <td>0.000596</td>\n",
       "    </tr>\n",
       "    <tr>\n",
       "      <th>Code_illness</th>\n",
       "      <td>-0.002380</td>\n",
       "      <td>-0.031373</td>\n",
       "      <td>0.432940</td>\n",
       "      <td>0.065543</td>\n",
       "      <td>0.433719</td>\n",
       "      <td>0.027818</td>\n",
       "      <td>-0.251959</td>\n",
       "      <td>1.000000</td>\n",
       "      <td>0.139461</td>\n",
       "      <td>0.318957</td>\n",
       "      <td>-0.079996</td>\n",
       "      <td>0.000783</td>\n",
       "    </tr>\n",
       "    <tr>\n",
       "      <th>Payment_typology_1</th>\n",
       "      <td>0.006984</td>\n",
       "      <td>0.043575</td>\n",
       "      <td>0.301341</td>\n",
       "      <td>0.025197</td>\n",
       "      <td>0.078205</td>\n",
       "      <td>-0.026784</td>\n",
       "      <td>-0.071096</td>\n",
       "      <td>0.139461</td>\n",
       "      <td>1.000000</td>\n",
       "      <td>0.130270</td>\n",
       "      <td>-0.058903</td>\n",
       "      <td>0.000392</td>\n",
       "    </tr>\n",
       "    <tr>\n",
       "      <th>emergency</th>\n",
       "      <td>0.046896</td>\n",
       "      <td>0.011098</td>\n",
       "      <td>0.338735</td>\n",
       "      <td>0.077945</td>\n",
       "      <td>0.104251</td>\n",
       "      <td>0.150861</td>\n",
       "      <td>-0.231615</td>\n",
       "      <td>0.318957</td>\n",
       "      <td>0.130270</td>\n",
       "      <td>1.000000</td>\n",
       "      <td>-0.152680</td>\n",
       "      <td>0.001496</td>\n",
       "    </tr>\n",
       "    <tr>\n",
       "      <th>ratio_of_total_costs_to_total_charges</th>\n",
       "      <td>0.057679</td>\n",
       "      <td>-0.099058</td>\n",
       "      <td>-0.117919</td>\n",
       "      <td>-0.053306</td>\n",
       "      <td>0.064260</td>\n",
       "      <td>-0.003332</td>\n",
       "      <td>0.138224</td>\n",
       "      <td>-0.079996</td>\n",
       "      <td>-0.058903</td>\n",
       "      <td>-0.152680</td>\n",
       "      <td>1.000000</td>\n",
       "      <td>0.000572</td>\n",
       "    </tr>\n",
       "    <tr>\n",
       "      <th>Result</th>\n",
       "      <td>0.000260</td>\n",
       "      <td>-0.001884</td>\n",
       "      <td>-0.000319</td>\n",
       "      <td>-0.000244</td>\n",
       "      <td>-0.000435</td>\n",
       "      <td>-0.000004</td>\n",
       "      <td>0.000596</td>\n",
       "      <td>0.000783</td>\n",
       "      <td>0.000392</td>\n",
       "      <td>0.001496</td>\n",
       "      <td>0.000572</td>\n",
       "      <td>1.000000</td>\n",
       "    </tr>\n",
       "  </tbody>\n",
       "</table>\n",
       "</div>"
      ],
      "text/plain": [
       "                                       Area_Service  hospitalid       Age  \\\n",
       "Area_Service                               1.000000    0.096392 -0.012189   \n",
       "hospitalid                                 0.096392    1.000000 -0.023077   \n",
       "Age                                       -0.012189   -0.023077  1.000000   \n",
       "Gender                                    -0.000350    0.003844  0.014481   \n",
       "Days_spend_hsptl                           0.009061    0.039321  0.235768   \n",
       "Admission_type                            -0.062501   -0.009422 -0.150360   \n",
       "ccs_diagnosis_code                        -0.002659    0.037543 -0.327216   \n",
       "Code_illness                              -0.002380   -0.031373  0.432940   \n",
       "Payment_typology_1                         0.006984    0.043575  0.301341   \n",
       "emergency                                  0.046896    0.011098  0.338735   \n",
       "ratio_of_total_costs_to_total_charges      0.057679   -0.099058 -0.117919   \n",
       "Result                                     0.000260   -0.001884 -0.000319   \n",
       "\n",
       "                                         Gender  Days_spend_hsptl  \\\n",
       "Area_Service                          -0.000350          0.009061   \n",
       "hospitalid                             0.003844          0.039321   \n",
       "Age                                    0.014481          0.235768   \n",
       "Gender                                 1.000000          0.033458   \n",
       "Days_spend_hsptl                       0.033458          1.000000   \n",
       "Admission_type                         0.066905         -0.004726   \n",
       "ccs_diagnosis_code                     0.012510          0.016214   \n",
       "Code_illness                           0.065543          0.433719   \n",
       "Payment_typology_1                     0.025197          0.078205   \n",
       "emergency                              0.077945          0.104251   \n",
       "ratio_of_total_costs_to_total_charges -0.053306          0.064260   \n",
       "Result                                -0.000244         -0.000435   \n",
       "\n",
       "                                       Admission_type  ccs_diagnosis_code  \\\n",
       "Area_Service                                -0.062501           -0.002659   \n",
       "hospitalid                                  -0.009422            0.037543   \n",
       "Age                                         -0.150360           -0.327216   \n",
       "Gender                                       0.066905            0.012510   \n",
       "Days_spend_hsptl                            -0.004726            0.016214   \n",
       "Admission_type                               1.000000            0.043958   \n",
       "ccs_diagnosis_code                           0.043958            1.000000   \n",
       "Code_illness                                 0.027818           -0.251959   \n",
       "Payment_typology_1                          -0.026784           -0.071096   \n",
       "emergency                                    0.150861           -0.231615   \n",
       "ratio_of_total_costs_to_total_charges       -0.003332            0.138224   \n",
       "Result                                      -0.000004            0.000596   \n",
       "\n",
       "                                       Code_illness  Payment_typology_1  \\\n",
       "Area_Service                              -0.002380            0.006984   \n",
       "hospitalid                                -0.031373            0.043575   \n",
       "Age                                        0.432940            0.301341   \n",
       "Gender                                     0.065543            0.025197   \n",
       "Days_spend_hsptl                           0.433719            0.078205   \n",
       "Admission_type                             0.027818           -0.026784   \n",
       "ccs_diagnosis_code                        -0.251959           -0.071096   \n",
       "Code_illness                               1.000000            0.139461   \n",
       "Payment_typology_1                         0.139461            1.000000   \n",
       "emergency                                  0.318957            0.130270   \n",
       "ratio_of_total_costs_to_total_charges     -0.079996           -0.058903   \n",
       "Result                                     0.000783            0.000392   \n",
       "\n",
       "                                       emergency  \\\n",
       "Area_Service                            0.046896   \n",
       "hospitalid                              0.011098   \n",
       "Age                                     0.338735   \n",
       "Gender                                  0.077945   \n",
       "Days_spend_hsptl                        0.104251   \n",
       "Admission_type                          0.150861   \n",
       "ccs_diagnosis_code                     -0.231615   \n",
       "Code_illness                            0.318957   \n",
       "Payment_typology_1                      0.130270   \n",
       "emergency                               1.000000   \n",
       "ratio_of_total_costs_to_total_charges  -0.152680   \n",
       "Result                                  0.001496   \n",
       "\n",
       "                                       ratio_of_total_costs_to_total_charges  \\\n",
       "Area_Service                                                        0.057679   \n",
       "hospitalid                                                         -0.099058   \n",
       "Age                                                                -0.117919   \n",
       "Gender                                                             -0.053306   \n",
       "Days_spend_hsptl                                                    0.064260   \n",
       "Admission_type                                                     -0.003332   \n",
       "ccs_diagnosis_code                                                  0.138224   \n",
       "Code_illness                                                       -0.079996   \n",
       "Payment_typology_1                                                 -0.058903   \n",
       "emergency                                                          -0.152680   \n",
       "ratio_of_total_costs_to_total_charges                               1.000000   \n",
       "Result                                                              0.000572   \n",
       "\n",
       "                                         Result  \n",
       "Area_Service                           0.000260  \n",
       "hospitalid                            -0.001884  \n",
       "Age                                   -0.000319  \n",
       "Gender                                -0.000244  \n",
       "Days_spend_hsptl                      -0.000435  \n",
       "Admission_type                        -0.000004  \n",
       "ccs_diagnosis_code                     0.000596  \n",
       "Code_illness                           0.000783  \n",
       "Payment_typology_1                     0.000392  \n",
       "emergency                              0.001496  \n",
       "ratio_of_total_costs_to_total_charges  0.000572  \n",
       "Result                                 1.000000  "
      ]
     },
     "execution_count": 60,
     "metadata": {},
     "output_type": "execute_result"
    }
   ],
   "source": [
    "#correlation matrix\n",
    "df5.corr(method=\"spearman\")"
   ]
  },
  {
   "cell_type": "code",
   "execution_count": 61,
   "metadata": {
    "scrolled": true
   },
   "outputs": [
    {
     "data": {
      "text/html": [
       "<div>\n",
       "<style scoped>\n",
       "    .dataframe tbody tr th:only-of-type {\n",
       "        vertical-align: middle;\n",
       "    }\n",
       "\n",
       "    .dataframe tbody tr th {\n",
       "        vertical-align: top;\n",
       "    }\n",
       "\n",
       "    .dataframe thead th {\n",
       "        text-align: right;\n",
       "    }\n",
       "</style>\n",
       "<table border=\"1\" class=\"dataframe\">\n",
       "  <thead>\n",
       "    <tr style=\"text-align: right;\">\n",
       "      <th></th>\n",
       "      <th>Area_Service</th>\n",
       "      <th>hospitalid</th>\n",
       "      <th>Age</th>\n",
       "      <th>Gender</th>\n",
       "      <th>Days_spend_hsptl</th>\n",
       "      <th>Admission_type</th>\n",
       "      <th>ccs_diagnosis_code</th>\n",
       "      <th>Code_illness</th>\n",
       "      <th>Payment_typology_1</th>\n",
       "      <th>emergency</th>\n",
       "      <th>ratio_of_total_costs_to_total_charges</th>\n",
       "      <th>Result</th>\n",
       "    </tr>\n",
       "  </thead>\n",
       "  <tbody>\n",
       "    <tr>\n",
       "      <th>Area_Service</th>\n",
       "      <td>3.917939</td>\n",
       "      <td>43.697140</td>\n",
       "      <td>-0.016687</td>\n",
       "      <td>-0.003206</td>\n",
       "      <td>0.224242</td>\n",
       "      <td>-0.213530</td>\n",
       "      <td>1.079498</td>\n",
       "      <td>0.007996</td>\n",
       "      <td>0.086668</td>\n",
       "      <td>0.040352</td>\n",
       "      <td>0.030573</td>\n",
       "      <td>0.000226</td>\n",
       "    </tr>\n",
       "    <tr>\n",
       "      <th>hospitalid</th>\n",
       "      <td>43.697140</td>\n",
       "      <td>450464.297169</td>\n",
       "      <td>-41.527169</td>\n",
       "      <td>-4.491611</td>\n",
       "      <td>95.490896</td>\n",
       "      <td>-36.522019</td>\n",
       "      <td>5798.220256</td>\n",
       "      <td>-29.573107</td>\n",
       "      <td>48.511770</td>\n",
       "      <td>-10.177850</td>\n",
       "      <td>2.754449</td>\n",
       "      <td>-0.355614</td>\n",
       "    </tr>\n",
       "    <tr>\n",
       "      <th>Age</th>\n",
       "      <td>-0.016687</td>\n",
       "      <td>-41.527169</td>\n",
       "      <td>1.883082</td>\n",
       "      <td>0.007553</td>\n",
       "      <td>1.024013</td>\n",
       "      <td>-0.213793</td>\n",
       "      <td>-50.465890</td>\n",
       "      <td>0.524495</td>\n",
       "      <td>0.535012</td>\n",
       "      <td>0.236429</td>\n",
       "      <td>-0.054769</td>\n",
       "      <td>-0.000065</td>\n",
       "    </tr>\n",
       "    <tr>\n",
       "      <th>Gender</th>\n",
       "      <td>-0.003206</td>\n",
       "      <td>-4.491611</td>\n",
       "      <td>0.007553</td>\n",
       "      <td>0.245768</td>\n",
       "      <td>0.178859</td>\n",
       "      <td>0.004768</td>\n",
       "      <td>5.166755</td>\n",
       "      <td>0.030454</td>\n",
       "      <td>0.023839</td>\n",
       "      <td>0.019159</td>\n",
       "      <td>-0.009221</td>\n",
       "      <td>-0.000051</td>\n",
       "    </tr>\n",
       "    <tr>\n",
       "      <th>Days_spend_hsptl</th>\n",
       "      <td>0.224242</td>\n",
       "      <td>95.490896</td>\n",
       "      <td>1.024013</td>\n",
       "      <td>0.178859</td>\n",
       "      <td>62.834520</td>\n",
       "      <td>0.166813</td>\n",
       "      <td>171.346149</td>\n",
       "      <td>2.364243</td>\n",
       "      <td>0.644761</td>\n",
       "      <td>0.110725</td>\n",
       "      <td>0.008043</td>\n",
       "      <td>-0.003937</td>\n",
       "    </tr>\n",
       "    <tr>\n",
       "      <th>Admission_type</th>\n",
       "      <td>-0.213530</td>\n",
       "      <td>-36.522019</td>\n",
       "      <td>-0.213793</td>\n",
       "      <td>0.004768</td>\n",
       "      <td>0.166813</td>\n",
       "      <td>1.932774</td>\n",
       "      <td>2.935855</td>\n",
       "      <td>0.021410</td>\n",
       "      <td>-0.069938</td>\n",
       "      <td>-0.053977</td>\n",
       "      <td>0.024903</td>\n",
       "      <td>-0.000533</td>\n",
       "    </tr>\n",
       "    <tr>\n",
       "      <th>ccs_diagnosis_code</th>\n",
       "      <td>1.079498</td>\n",
       "      <td>5798.220256</td>\n",
       "      <td>-50.465890</td>\n",
       "      <td>5.166755</td>\n",
       "      <td>171.346149</td>\n",
       "      <td>2.935855</td>\n",
       "      <td>27347.583555</td>\n",
       "      <td>-27.523366</td>\n",
       "      <td>3.312201</td>\n",
       "      <td>-8.263431</td>\n",
       "      <td>4.069859</td>\n",
       "      <td>0.048311</td>\n",
       "    </tr>\n",
       "    <tr>\n",
       "      <th>Code_illness</th>\n",
       "      <td>0.007996</td>\n",
       "      <td>-29.573107</td>\n",
       "      <td>0.524495</td>\n",
       "      <td>0.030454</td>\n",
       "      <td>2.364243</td>\n",
       "      <td>0.021410</td>\n",
       "      <td>-27.523366</td>\n",
       "      <td>0.836653</td>\n",
       "      <td>0.207045</td>\n",
       "      <td>0.140845</td>\n",
       "      <td>-0.025000</td>\n",
       "      <td>0.000299</td>\n",
       "    </tr>\n",
       "    <tr>\n",
       "      <th>Payment_typology_1</th>\n",
       "      <td>0.086668</td>\n",
       "      <td>48.511770</td>\n",
       "      <td>0.535012</td>\n",
       "      <td>0.023839</td>\n",
       "      <td>0.644761</td>\n",
       "      <td>-0.069938</td>\n",
       "      <td>3.312201</td>\n",
       "      <td>0.207045</td>\n",
       "      <td>4.390689</td>\n",
       "      <td>0.119383</td>\n",
       "      <td>-0.023004</td>\n",
       "      <td>0.000668</td>\n",
       "    </tr>\n",
       "    <tr>\n",
       "      <th>emergency</th>\n",
       "      <td>0.040352</td>\n",
       "      <td>-10.177850</td>\n",
       "      <td>0.236429</td>\n",
       "      <td>0.019159</td>\n",
       "      <td>0.110725</td>\n",
       "      <td>-0.053977</td>\n",
       "      <td>-8.263431</td>\n",
       "      <td>0.140845</td>\n",
       "      <td>0.119383</td>\n",
       "      <td>0.246093</td>\n",
       "      <td>-0.019625</td>\n",
       "      <td>0.000321</td>\n",
       "    </tr>\n",
       "    <tr>\n",
       "      <th>ratio_of_total_costs_to_total_charges</th>\n",
       "      <td>0.030573</td>\n",
       "      <td>2.754449</td>\n",
       "      <td>-0.054769</td>\n",
       "      <td>-0.009221</td>\n",
       "      <td>0.008043</td>\n",
       "      <td>0.024903</td>\n",
       "      <td>4.069859</td>\n",
       "      <td>-0.025000</td>\n",
       "      <td>-0.023004</td>\n",
       "      <td>-0.019625</td>\n",
       "      <td>0.641544</td>\n",
       "      <td>0.000195</td>\n",
       "    </tr>\n",
       "    <tr>\n",
       "      <th>Result</th>\n",
       "      <td>0.000226</td>\n",
       "      <td>-0.355614</td>\n",
       "      <td>-0.000065</td>\n",
       "      <td>-0.000051</td>\n",
       "      <td>-0.003937</td>\n",
       "      <td>-0.000533</td>\n",
       "      <td>0.048311</td>\n",
       "      <td>0.000299</td>\n",
       "      <td>0.000668</td>\n",
       "      <td>0.000321</td>\n",
       "      <td>0.000195</td>\n",
       "      <td>0.187490</td>\n",
       "    </tr>\n",
       "  </tbody>\n",
       "</table>\n",
       "</div>"
      ],
      "text/plain": [
       "                                       Area_Service     hospitalid        Age  \\\n",
       "Area_Service                               3.917939      43.697140  -0.016687   \n",
       "hospitalid                                43.697140  450464.297169 -41.527169   \n",
       "Age                                       -0.016687     -41.527169   1.883082   \n",
       "Gender                                    -0.003206      -4.491611   0.007553   \n",
       "Days_spend_hsptl                           0.224242      95.490896   1.024013   \n",
       "Admission_type                            -0.213530     -36.522019  -0.213793   \n",
       "ccs_diagnosis_code                         1.079498    5798.220256 -50.465890   \n",
       "Code_illness                               0.007996     -29.573107   0.524495   \n",
       "Payment_typology_1                         0.086668      48.511770   0.535012   \n",
       "emergency                                  0.040352     -10.177850   0.236429   \n",
       "ratio_of_total_costs_to_total_charges      0.030573       2.754449  -0.054769   \n",
       "Result                                     0.000226      -0.355614  -0.000065   \n",
       "\n",
       "                                         Gender  Days_spend_hsptl  \\\n",
       "Area_Service                          -0.003206          0.224242   \n",
       "hospitalid                            -4.491611         95.490896   \n",
       "Age                                    0.007553          1.024013   \n",
       "Gender                                 0.245768          0.178859   \n",
       "Days_spend_hsptl                       0.178859         62.834520   \n",
       "Admission_type                         0.004768          0.166813   \n",
       "ccs_diagnosis_code                     5.166755        171.346149   \n",
       "Code_illness                           0.030454          2.364243   \n",
       "Payment_typology_1                     0.023839          0.644761   \n",
       "emergency                              0.019159          0.110725   \n",
       "ratio_of_total_costs_to_total_charges -0.009221          0.008043   \n",
       "Result                                -0.000051         -0.003937   \n",
       "\n",
       "                                       Admission_type  ccs_diagnosis_code  \\\n",
       "Area_Service                                -0.213530            1.079498   \n",
       "hospitalid                                 -36.522019         5798.220256   \n",
       "Age                                         -0.213793          -50.465890   \n",
       "Gender                                       0.004768            5.166755   \n",
       "Days_spend_hsptl                             0.166813          171.346149   \n",
       "Admission_type                               1.932774            2.935855   \n",
       "ccs_diagnosis_code                           2.935855        27347.583555   \n",
       "Code_illness                                 0.021410          -27.523366   \n",
       "Payment_typology_1                          -0.069938            3.312201   \n",
       "emergency                                   -0.053977           -8.263431   \n",
       "ratio_of_total_costs_to_total_charges        0.024903            4.069859   \n",
       "Result                                      -0.000533            0.048311   \n",
       "\n",
       "                                       Code_illness  Payment_typology_1  \\\n",
       "Area_Service                               0.007996            0.086668   \n",
       "hospitalid                               -29.573107           48.511770   \n",
       "Age                                        0.524495            0.535012   \n",
       "Gender                                     0.030454            0.023839   \n",
       "Days_spend_hsptl                           2.364243            0.644761   \n",
       "Admission_type                             0.021410           -0.069938   \n",
       "ccs_diagnosis_code                       -27.523366            3.312201   \n",
       "Code_illness                               0.836653            0.207045   \n",
       "Payment_typology_1                         0.207045            4.390689   \n",
       "emergency                                  0.140845            0.119383   \n",
       "ratio_of_total_costs_to_total_charges     -0.025000           -0.023004   \n",
       "Result                                     0.000299            0.000668   \n",
       "\n",
       "                                       emergency  \\\n",
       "Area_Service                            0.040352   \n",
       "hospitalid                            -10.177850   \n",
       "Age                                     0.236429   \n",
       "Gender                                  0.019159   \n",
       "Days_spend_hsptl                        0.110725   \n",
       "Admission_type                         -0.053977   \n",
       "ccs_diagnosis_code                     -8.263431   \n",
       "Code_illness                            0.140845   \n",
       "Payment_typology_1                      0.119383   \n",
       "emergency                               0.246093   \n",
       "ratio_of_total_costs_to_total_charges  -0.019625   \n",
       "Result                                  0.000321   \n",
       "\n",
       "                                       ratio_of_total_costs_to_total_charges  \\\n",
       "Area_Service                                                        0.030573   \n",
       "hospitalid                                                          2.754449   \n",
       "Age                                                                -0.054769   \n",
       "Gender                                                             -0.009221   \n",
       "Days_spend_hsptl                                                    0.008043   \n",
       "Admission_type                                                      0.024903   \n",
       "ccs_diagnosis_code                                                  4.069859   \n",
       "Code_illness                                                       -0.025000   \n",
       "Payment_typology_1                                                 -0.023004   \n",
       "emergency                                                          -0.019625   \n",
       "ratio_of_total_costs_to_total_charges                               0.641544   \n",
       "Result                                                              0.000195   \n",
       "\n",
       "                                         Result  \n",
       "Area_Service                           0.000226  \n",
       "hospitalid                            -0.355614  \n",
       "Age                                   -0.000065  \n",
       "Gender                                -0.000051  \n",
       "Days_spend_hsptl                      -0.003937  \n",
       "Admission_type                        -0.000533  \n",
       "ccs_diagnosis_code                     0.048311  \n",
       "Code_illness                           0.000299  \n",
       "Payment_typology_1                     0.000668  \n",
       "emergency                              0.000321  \n",
       "ratio_of_total_costs_to_total_charges  0.000195  \n",
       "Result                                 0.187490  "
      ]
     },
     "execution_count": 61,
     "metadata": {},
     "output_type": "execute_result"
    }
   ],
   "source": [
    "#Covariance matrix\n",
    "df5.cov()"
   ]
  },
  {
   "cell_type": "code",
   "execution_count": 62,
   "metadata": {},
   "outputs": [],
   "source": [
    "import seaborn as sns"
   ]
  },
  {
   "cell_type": "markdown",
   "metadata": {},
   "source": [
    "### df6 used for making heatmaps only. main dataset still in df5"
   ]
  },
  {
   "cell_type": "code",
   "execution_count": 63,
   "metadata": {
    "scrolled": false
   },
   "outputs": [
    {
     "data": {
      "image/png": "[encoded data removed]",
      "text/plain": [
       "<Figure size 1440x720 with 2 Axes>"
      ]
     },
     "metadata": {
      "needs_background": "light"
     },
     "output_type": "display_data"
    }
   ],
   "source": [
    "df6=df5\n",
    "corr=df6.corr(method=\"pearson\")\n",
    "ax = sns.heatmap(\n",
    "    corr, \n",
    "    vmin=-0.2, vmax=1, center=0, annot=True,\n",
    "    cmap=sns.diverging_palette(20, 220, n=200),\n",
    "    square=True\n",
    ")\n",
    "ax.set_xticklabels(\n",
    "    ax.get_xticklabels(),\n",
    "    rotation=45,\n",
    "    horizontalalignment='right'\n",
    ");\n",
    "#ax=sns.heatmap(df6)"
   ]
  },
  {
   "cell_type": "code",
   "execution_count": 64,
   "metadata": {},
   "outputs": [
    {
     "data": {
      "image/png": "[encoded data removed]",
      "text/plain": [
       "<Figure size 1440x720 with 2 Axes>"
      ]
     },
     "metadata": {
      "needs_background": "light"
     },
     "output_type": "display_data"
    }
   ],
   "source": [
    "df6=df5\n",
    "corr=df6.corr(method=\"kendall\")\n",
    "ax = sns.heatmap(\n",
    "    corr, \n",
    "    vmin=-0.2, vmax=1, center=0, annot=True,\n",
    "    cmap=sns.diverging_palette(20, 220, n=200),\n",
    "    square=True\n",
    ")\n",
    "ax.set_xticklabels(\n",
    "    ax.get_xticklabels(),\n",
    "    rotation=45,\n",
    "    horizontalalignment='right'\n",
    ");\n",
    "#ax=sns.heatmap(df6)"
   ]
  },
  {
   "cell_type": "code",
   "execution_count": 65,
   "metadata": {},
   "outputs": [
    {
     "data": {
      "image/png": "[encoded data removed]",
      "text/plain": [
       "<Figure size 1440x720 with 2 Axes>"
      ]
     },
     "metadata": {
      "needs_background": "light"
     },
     "output_type": "display_data"
    }
   ],
   "source": [
    "df6=df5\n",
    "corr=df6.corr(method=\"spearman\")\n",
    "ax = sns.heatmap(\n",
    "    corr, \n",
    "    vmin=-0.2, vmax=1, center=0, annot=True,\n",
    "    cmap=sns.diverging_palette(20, 220, n=200),\n",
    "    square=True\n",
    ")\n",
    "ax.set_xticklabels(\n",
    "    ax.get_xticklabels(),\n",
    "    rotation=45,\n",
    "    horizontalalignment='right'\n",
    ");\n",
    "#ax=sns.heatmap(df6)"
   ]
  },
  {
   "cell_type": "markdown",
   "metadata": {},
   "source": [
    "#### 0 - Fraud\n",
    "#### 1 - Genuine"
   ]
  },
  {
   "cell_type": "code",
   "execution_count": 66,
   "metadata": {},
   "outputs": [
    {
     "data": {
      "text/plain": [
       "0    261499\n",
       "1    784578\n",
       "Name: Result, dtype: int64"
      ]
     },
     "execution_count": 66,
     "metadata": {},
     "output_type": "execute_result"
    }
   ],
   "source": [
    "df5.Result.value_counts().sort_values(ascending=True)"
   ]
  },
  {
   "cell_type": "code",
   "execution_count": 67,
   "metadata": {},
   "outputs": [
    {
     "data": {
      "text/plain": [
       "<matplotlib.axes._subplots.AxesSubplot at 0x1e096214c48>"
      ]
     },
     "execution_count": 67,
     "metadata": {},
     "output_type": "execute_result"
    },
    {
     "data": {
      "image/png": "[encoded data removed]",
      "text/plain": [
       "<Figure size 1440x720 with 1 Axes>"
      ]
     },
     "metadata": {},
     "output_type": "display_data"
    }
   ],
   "source": [
    "df5['Result'].value_counts().plot(kind='pie')"
   ]
  },
  {
   "cell_type": "markdown",
   "metadata": {},
   "source": [
    "#### 0 - 0 to 17\n",
    "#### 1 - 18 to 29\n",
    "#### 2 - 30 to 49\n",
    "#### 3 - 50 to 69\n",
    "#### 4 - 70++"
   ]
  },
  {
   "cell_type": "code",
   "execution_count": 68,
   "metadata": {},
   "outputs": [
    {
     "data": {
      "text/plain": [
       "1    116180\n",
       "0    144227\n",
       "2    197970\n",
       "3    281841\n",
       "4    305859\n",
       "Name: Age, dtype: int64"
      ]
     },
     "execution_count": 68,
     "metadata": {},
     "output_type": "execute_result"
    }
   ],
   "source": [
    "df5.Age.value_counts().sort_values(ascending=True)"
   ]
  },
  {
   "cell_type": "code",
   "execution_count": 69,
   "metadata": {},
   "outputs": [
    {
     "data": {
      "text/plain": [
       "<matplotlib.axes._subplots.AxesSubplot at 0x1e0900aa848>"
      ]
     },
     "execution_count": 69,
     "metadata": {},
     "output_type": "execute_result"
    },
    {
     "data": {
      "image/png": "[encoded data removed]",
      "text/plain": [
       "<Figure size 1440x720 with 1 Axes>"
      ]
     },
     "metadata": {
      "needs_background": "light"
     },
     "output_type": "display_data"
    }
   ],
   "source": [
    "df5['Age'].value_counts().plot(kind='bar')"
   ]
  },
  {
   "cell_type": "markdown",
   "metadata": {},
   "source": [
    "#### 0 - Female\n",
    "#### 1 - Male\n",
    "#### 2 - Undefined"
   ]
  },
  {
   "cell_type": "code",
   "execution_count": 70,
   "metadata": {},
   "outputs": [
    {
     "data": {
      "text/plain": [
       "2        27\n",
       "1    454516\n",
       "0    591534\n",
       "Name: Gender, dtype: int64"
      ]
     },
     "execution_count": 70,
     "metadata": {},
     "output_type": "execute_result"
    }
   ],
   "source": [
    "df5.Gender.value_counts().sort_values(ascending=True)"
   ]
  },
  {
   "cell_type": "code",
   "execution_count": 71,
   "metadata": {},
   "outputs": [
    {
     "data": {
      "text/plain": [
       "<matplotlib.axes._subplots.AxesSubplot at 0x1e095ff65c8>"
      ]
     },
     "execution_count": 71,
     "metadata": {},
     "output_type": "execute_result"
    },
    {
     "data": {
      "image/png": "[encoded data removed]",
      "text/plain": [
       "<Figure size 1440x720 with 1 Axes>"
      ]
     },
     "metadata": {
      "needs_background": "light"
     },
     "output_type": "display_data"
    }
   ],
   "source": [
    "df5['Gender'].value_counts().plot(kind='barh')"
   ]
  },
  {
   "cell_type": "markdown",
   "metadata": {},
   "source": [
    "#####  Days spend in hospital boxplot"
   ]
  },
  {
   "cell_type": "code",
   "execution_count": 72,
   "metadata": {},
   "outputs": [
    {
     "name": "stdout",
     "output_type": "stream",
     "text": [
      "<class 'pandas.core.frame.DataFrame'>\n",
      "RangeIndex: 1046077 entries, 0 to 1046076\n",
      "Data columns (total 12 columns):\n",
      " #   Column                                 Non-Null Count    Dtype  \n",
      "---  ------                                 --------------    -----  \n",
      " 0   Area_Service                           1046077 non-null  int8   \n",
      " 1   hospitalid                             1046077 non-null  float64\n",
      " 2   Age                                    1046077 non-null  int8   \n",
      " 3   Gender                                 1046077 non-null  int8   \n",
      " 4   Days_spend_hsptl                       1046077 non-null  int32  \n",
      " 5   Admission_type                         1046077 non-null  int8   \n",
      " 6   ccs_diagnosis_code                     1046077 non-null  int64  \n",
      " 7   Code_illness                           1046077 non-null  int64  \n",
      " 8   Payment_typology_1                     1046077 non-null  int8   \n",
      " 9   emergency                              1046077 non-null  int8   \n",
      " 10  ratio_of_total_costs_to_total_charges  1046077 non-null  float64\n",
      " 11  Result                                 1046077 non-null  int8   \n",
      "dtypes: float64(2), int32(1), int64(2), int8(7)\n",
      "memory usage: 42.9 MB\n"
     ]
    }
   ],
   "source": [
    "df5.info()"
   ]
  },
  {
   "cell_type": "code",
   "execution_count": 73,
   "metadata": {},
   "outputs": [
    {
     "data": {
      "text/plain": [
       "array([  4,   3,   1,   2,   5,   6,  14,  12,   9,   8,  10,   7,  22,\n",
       "        11,  16,  15,  25,  13,  17,  28,  18,  19,  23,  38,  20,  24,\n",
       "        26,  21,  27,  30,  29,  39,  87,  35,  37,  32,  55,  56,  49,\n",
       "       110,  69,  75,  42,  51,  47,  45,  46,  40,  34,  79,  43, 120,\n",
       "        65,  41,  31,  50,  59,  44,  36,  70, 115,  58,  94,  33,  68,\n",
       "        67,  54,  80,  85,  95,  78,  91,  88,  48,  52,  63,  57,  74,\n",
       "        64,  53,  62,  97,  72, 118,  81,  90,  86, 106, 112, 105, 114,\n",
       "        66,  89,  83,  84,  82,  93, 116,  71,  60,  73,  61,  92,  76,\n",
       "        96,  77, 104, 100, 103, 102, 117, 108,  99, 107,  98, 101, 119,\n",
       "       111, 109, 113])"
      ]
     },
     "execution_count": 73,
     "metadata": {},
     "output_type": "execute_result"
    }
   ],
   "source": [
    "df5.Days_spend_hsptl.unique()"
   ]
  },
  {
   "cell_type": "code",
   "execution_count": 74,
   "metadata": {},
   "outputs": [
    {
     "data": {
      "text/plain": [
       "<matplotlib.axes._subplots.AxesSubplot at 0x1e0960634c8>"
      ]
     },
     "execution_count": 74,
     "metadata": {},
     "output_type": "execute_result"
    },
    {
     "data": {
      "image/png": "[encoded data removed]",
      "text/plain": [
       "<Figure size 1440x720 with 1 Axes>"
      ]
     },
     "metadata": {
      "needs_background": "light"
     },
     "output_type": "display_data"
    }
   ],
   "source": [
    "df5['Days_spend_hsptl'].plot(kind='box')"
   ]
  },
  {
   "cell_type": "markdown",
   "metadata": {},
   "source": [
    "#### 1 - Minor\n",
    "#### 2 - Moderate\n",
    "#### 3 - Major\n",
    "#### 4 - Extreme"
   ]
  },
  {
   "cell_type": "code",
   "execution_count": 75,
   "metadata": {},
   "outputs": [
    {
     "data": {
      "text/plain": [
       "4     73704\n",
       "3    245590\n",
       "1    337718\n",
       "2    389065\n",
       "Name: Code_illness, dtype: int64"
      ]
     },
     "execution_count": 75,
     "metadata": {},
     "output_type": "execute_result"
    }
   ],
   "source": [
    "df5.Code_illness.value_counts().sort_values(ascending=True)"
   ]
  },
  {
   "cell_type": "code",
   "execution_count": 76,
   "metadata": {},
   "outputs": [
    {
     "data": {
      "text/plain": [
       "<matplotlib.axes._subplots.AxesSubplot at 0x1e0961284c8>"
      ]
     },
     "execution_count": 76,
     "metadata": {},
     "output_type": "execute_result"
    },
    {
     "data": {
      "image/png": "[encoded data removed]",
      "text/plain": [
       "<Figure size 1440x720 with 1 Axes>"
      ]
     },
     "metadata": {},
     "output_type": "display_data"
    }
   ],
   "source": [
    "df5['Code_illness'].value_counts().plot(kind='pie')"
   ]
  },
  {
   "cell_type": "markdown",
   "metadata": {},
   "source": [
    "#### 0 - Elective\n",
    "#### 1 - Emergency\n",
    "#### 2 - Newborn\n",
    "#### 3 - Not Noted\n",
    "#### 4 - Trauma\n",
    "#### 5 - Urgent"
   ]
  },
  {
   "cell_type": "code",
   "execution_count": 77,
   "metadata": {},
   "outputs": [
    {
     "data": {
      "text/plain": [
       "Emergency        608595\n",
       "Elective         235655\n",
       "Urgent           110338\n",
       "Newborn           90709\n",
       "Trauma             2258\n",
       "Not Available      1020\n",
       "Name: Admission_type, dtype: int64"
      ]
     },
     "execution_count": 77,
     "metadata": {},
     "output_type": "execute_result"
    }
   ],
   "source": [
    "df.Admission_type.value_counts()"
   ]
  },
  {
   "cell_type": "code",
   "execution_count": 78,
   "metadata": {},
   "outputs": [
    {
     "data": {
      "text/plain": [
       "<matplotlib.axes._subplots.AxesSubplot at 0x1e096174448>"
      ]
     },
     "execution_count": 78,
     "metadata": {},
     "output_type": "execute_result"
    },
    {
     "data": {
      "image/png": "[encoded data removed]",
      "text/plain": [
       "<Figure size 1440x720 with 1 Axes>"
      ]
     },
     "metadata": {},
     "output_type": "display_data"
    }
   ],
   "source": [
    "df5['Admission_type'].value_counts().plot(kind='pie')"
   ]
  },
  {
   "cell_type": "code",
   "execution_count": 85,
   "metadata": {},
   "outputs": [
    {
     "data": {
      "image/png": "[encoded data removed]",
      "text/plain": [
       "<Figure size 720x432 with 1 Axes>"
      ]
     },
     "metadata": {
      "needs_background": "light"
     },
     "output_type": "display_data"
    }
   ],
   "source": [
    "# Plotting a scatter plot\n",
    "fig, ax = plt.subplots(figsize=(10,6))\n",
    "ax.scatter(df5['Code_illness'], df5['ratio_of_total_costs_to_total_charges'])\n",
    "ax.set_xlabel('Code Illness')\n",
    "ax.set_ylabel('ratio of total cost to total charge')\n",
    "plt.show()"
   ]
  },
  {
   "cell_type": "markdown",
   "metadata": {},
   "source": [
    "### I conclude EDA"
   ]
  },
  {
   "cell_type": "code",
   "execution_count": null,
   "metadata": {},
   "outputs": [],
   "source": []
  },
  {
   "cell_type": "code",
   "execution_count": null,
   "metadata": {},
   "outputs": [],
   "source": []
  },
  {
   "cell_type": "code",
   "execution_count": null,
   "metadata": {},
   "outputs": [],
   "source": []
  }
 ],
 "metadata": {
  "kernelspec": {
   "display_name": "Python 3",
   "language": "python",
   "name": "python3"
  },
  "language_info": {
   "codemirror_mode": {
    "name": "ipython",
    "version": 3
   },
   "file_extension": ".py",
   "mimetype": "text/x-python",
   "name": "python",
   "nbconvert_exporter": "python",
   "pygments_lexer": "ipython3",
   "version": "3.7.6"
  }
 },
 "nbformat": 4,
 "nbformat_minor": 4
}
